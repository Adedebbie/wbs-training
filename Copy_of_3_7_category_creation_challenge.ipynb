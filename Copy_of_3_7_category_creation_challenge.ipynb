{
  "nbformat": 4,
  "nbformat_minor": 0,
  "metadata": {
    "colab": {
      "name": "Copy of 3.7_category_creation_challenge.ipynb",
      "provenance": [],
      "collapsed_sections": [],
      "include_colab_link": true
    },
    "kernelspec": {
      "name": "python3",
      "display_name": "Python 3"
    },
    "language_info": {
      "name": "python"
    }
  },
  "cells": [
    {
      "cell_type": "markdown",
      "metadata": {
        "id": "view-in-github",
        "colab_type": "text"
      },
      "source": [
        "<a href=\"https://colab.research.google.com/github/Adedebbie/wbs-training/blob/main/Copy_of_3_7_category_creation_challenge.ipynb\" target=\"_parent\"><img src=\"https://colab.research.google.com/assets/colab-badge.svg\" alt=\"Open In Colab\"/></a>"
      ]
    },
    {
      "cell_type": "markdown",
      "source": [
        "# Searching for the category"
      ],
      "metadata": {
        "id": "bbaehNmt73fv"
      }
    },
    {
      "cell_type": "markdown",
      "source": [
        "For this code along we are only going to use the products DataFrame, however, if you believe there is information in other tables that can help to create categories, please, feel free to explore."
      ],
      "metadata": {
        "id": "JZNKAkEMOa3w"
      }
    },
    {
      "cell_type": "code",
      "source": [
        "import pandas as pd"
      ],
      "metadata": {
        "id": "ViZQTGKntHE9"
      },
      "execution_count": 2,
      "outputs": []
    },
    {
      "cell_type": "code",
      "execution_count": 3,
      "metadata": {
        "id": "7QfwQmvrrI1y"
      },
      "outputs": [],
      "source": [
        "# products_cl.csv\n",
        "url = \"https://drive.google.com/file/d/1s7Lai4NSlsYjGEPg1QSOUJobNYVsZBOJ/view?usp=sharing\" \n",
        "path = \"https://drive.google.com/uc?export=download&id=\"+url.split(\"/\")[-2]\n",
        "products_cl = pd.read_csv(path)"
      ]
    },
    {
      "cell_type": "code",
      "source": [
        "product_category_df = products_cl.copy()"
      ],
      "metadata": {
        "id": "V3YcuBBQlN0O"
      },
      "execution_count": 4,
      "outputs": []
    },
    {
      "cell_type": "code",
      "source": [
        "product_category_df.head()"
      ],
      "metadata": {
        "id": "eEychOC1tIzh",
        "colab": {
          "base_uri": "https://localhost:8080/",
          "height": 206
        },
        "outputId": "0a635afb-4e30-4199-8422-a7183b67cc94"
      },
      "execution_count": 5,
      "outputs": [
        {
          "output_type": "execute_result",
          "data": {
            "text/plain": [
              "       sku                                           name  \\\n",
              "0  RAI0007              Silver Rain Design mStand Support   \n",
              "1  APP0023              Apple Mac Keyboard Keypad Spanish   \n",
              "2  APP0025               Mighty Mouse Apple Mouse for Mac   \n",
              "3  APP0072  Apple Dock to USB Cable iPhone and iPod white   \n",
              "4  KIN0007    Mac Memory Kingston 2GB 667MHz DDR2 SO-DIMM   \n",
              "\n",
              "                                                desc  price  in_stock  \\\n",
              "0       Aluminum support compatible with all MacBook  59.99         1   \n",
              "1          USB ultrathin keyboard Apple Mac Spanish.  59.00         0   \n",
              "2                             mouse Apple USB cable.  59.00         0   \n",
              "3              IPhone dock and USB Cable Apple iPod.  25.00         0   \n",
              "4  2GB RAM Mac mini and iMac (2006/07) MacBook Pr...  34.99         1   \n",
              "\n",
              "       type  \n",
              "0      8696  \n",
              "1  13855401  \n",
              "2      1387  \n",
              "3      1230  \n",
              "4      1364  "
            ],
            "text/html": [
              "\n",
              "  <div id=\"df-2aa07e35-f9c9-44d6-bcd6-4527ed9a2de1\">\n",
              "    <div class=\"colab-df-container\">\n",
              "      <div>\n",
              "<style scoped>\n",
              "    .dataframe tbody tr th:only-of-type {\n",
              "        vertical-align: middle;\n",
              "    }\n",
              "\n",
              "    .dataframe tbody tr th {\n",
              "        vertical-align: top;\n",
              "    }\n",
              "\n",
              "    .dataframe thead th {\n",
              "        text-align: right;\n",
              "    }\n",
              "</style>\n",
              "<table border=\"1\" class=\"dataframe\">\n",
              "  <thead>\n",
              "    <tr style=\"text-align: right;\">\n",
              "      <th></th>\n",
              "      <th>sku</th>\n",
              "      <th>name</th>\n",
              "      <th>desc</th>\n",
              "      <th>price</th>\n",
              "      <th>in_stock</th>\n",
              "      <th>type</th>\n",
              "    </tr>\n",
              "  </thead>\n",
              "  <tbody>\n",
              "    <tr>\n",
              "      <th>0</th>\n",
              "      <td>RAI0007</td>\n",
              "      <td>Silver Rain Design mStand Support</td>\n",
              "      <td>Aluminum support compatible with all MacBook</td>\n",
              "      <td>59.99</td>\n",
              "      <td>1</td>\n",
              "      <td>8696</td>\n",
              "    </tr>\n",
              "    <tr>\n",
              "      <th>1</th>\n",
              "      <td>APP0023</td>\n",
              "      <td>Apple Mac Keyboard Keypad Spanish</td>\n",
              "      <td>USB ultrathin keyboard Apple Mac Spanish.</td>\n",
              "      <td>59.00</td>\n",
              "      <td>0</td>\n",
              "      <td>13855401</td>\n",
              "    </tr>\n",
              "    <tr>\n",
              "      <th>2</th>\n",
              "      <td>APP0025</td>\n",
              "      <td>Mighty Mouse Apple Mouse for Mac</td>\n",
              "      <td>mouse Apple USB cable.</td>\n",
              "      <td>59.00</td>\n",
              "      <td>0</td>\n",
              "      <td>1387</td>\n",
              "    </tr>\n",
              "    <tr>\n",
              "      <th>3</th>\n",
              "      <td>APP0072</td>\n",
              "      <td>Apple Dock to USB Cable iPhone and iPod white</td>\n",
              "      <td>IPhone dock and USB Cable Apple iPod.</td>\n",
              "      <td>25.00</td>\n",
              "      <td>0</td>\n",
              "      <td>1230</td>\n",
              "    </tr>\n",
              "    <tr>\n",
              "      <th>4</th>\n",
              "      <td>KIN0007</td>\n",
              "      <td>Mac Memory Kingston 2GB 667MHz DDR2 SO-DIMM</td>\n",
              "      <td>2GB RAM Mac mini and iMac (2006/07) MacBook Pr...</td>\n",
              "      <td>34.99</td>\n",
              "      <td>1</td>\n",
              "      <td>1364</td>\n",
              "    </tr>\n",
              "  </tbody>\n",
              "</table>\n",
              "</div>\n",
              "      <button class=\"colab-df-convert\" onclick=\"convertToInteractive('df-2aa07e35-f9c9-44d6-bcd6-4527ed9a2de1')\"\n",
              "              title=\"Convert this dataframe to an interactive table.\"\n",
              "              style=\"display:none;\">\n",
              "        \n",
              "  <svg xmlns=\"http://www.w3.org/2000/svg\" height=\"24px\"viewBox=\"0 0 24 24\"\n",
              "       width=\"24px\">\n",
              "    <path d=\"M0 0h24v24H0V0z\" fill=\"none\"/>\n",
              "    <path d=\"M18.56 5.44l.94 2.06.94-2.06 2.06-.94-2.06-.94-.94-2.06-.94 2.06-2.06.94zm-11 1L8.5 8.5l.94-2.06 2.06-.94-2.06-.94L8.5 2.5l-.94 2.06-2.06.94zm10 10l.94 2.06.94-2.06 2.06-.94-2.06-.94-.94-2.06-.94 2.06-2.06.94z\"/><path d=\"M17.41 7.96l-1.37-1.37c-.4-.4-.92-.59-1.43-.59-.52 0-1.04.2-1.43.59L10.3 9.45l-7.72 7.72c-.78.78-.78 2.05 0 2.83L4 21.41c.39.39.9.59 1.41.59.51 0 1.02-.2 1.41-.59l7.78-7.78 2.81-2.81c.8-.78.8-2.07 0-2.86zM5.41 20L4 18.59l7.72-7.72 1.47 1.35L5.41 20z\"/>\n",
              "  </svg>\n",
              "      </button>\n",
              "      \n",
              "  <style>\n",
              "    .colab-df-container {\n",
              "      display:flex;\n",
              "      flex-wrap:wrap;\n",
              "      gap: 12px;\n",
              "    }\n",
              "\n",
              "    .colab-df-convert {\n",
              "      background-color: #E8F0FE;\n",
              "      border: none;\n",
              "      border-radius: 50%;\n",
              "      cursor: pointer;\n",
              "      display: none;\n",
              "      fill: #1967D2;\n",
              "      height: 32px;\n",
              "      padding: 0 0 0 0;\n",
              "      width: 32px;\n",
              "    }\n",
              "\n",
              "    .colab-df-convert:hover {\n",
              "      background-color: #E2EBFA;\n",
              "      box-shadow: 0px 1px 2px rgba(60, 64, 67, 0.3), 0px 1px 3px 1px rgba(60, 64, 67, 0.15);\n",
              "      fill: #174EA6;\n",
              "    }\n",
              "\n",
              "    [theme=dark] .colab-df-convert {\n",
              "      background-color: #3B4455;\n",
              "      fill: #D2E3FC;\n",
              "    }\n",
              "\n",
              "    [theme=dark] .colab-df-convert:hover {\n",
              "      background-color: #434B5C;\n",
              "      box-shadow: 0px 1px 3px 1px rgba(0, 0, 0, 0.15);\n",
              "      filter: drop-shadow(0px 1px 2px rgba(0, 0, 0, 0.3));\n",
              "      fill: #FFFFFF;\n",
              "    }\n",
              "  </style>\n",
              "\n",
              "      <script>\n",
              "        const buttonEl =\n",
              "          document.querySelector('#df-2aa07e35-f9c9-44d6-bcd6-4527ed9a2de1 button.colab-df-convert');\n",
              "        buttonEl.style.display =\n",
              "          google.colab.kernel.accessAllowed ? 'block' : 'none';\n",
              "\n",
              "        async function convertToInteractive(key) {\n",
              "          const element = document.querySelector('#df-2aa07e35-f9c9-44d6-bcd6-4527ed9a2de1');\n",
              "          const dataTable =\n",
              "            await google.colab.kernel.invokeFunction('convertToInteractive',\n",
              "                                                     [key], {});\n",
              "          if (!dataTable) return;\n",
              "\n",
              "          const docLinkHtml = 'Like what you see? Visit the ' +\n",
              "            '<a target=\"_blank\" href=https://colab.research.google.com/notebooks/data_table.ipynb>data table notebook</a>'\n",
              "            + ' to learn more about interactive tables.';\n",
              "          element.innerHTML = '';\n",
              "          dataTable['output_type'] = 'display_data';\n",
              "          await google.colab.output.renderOutput(dataTable, element);\n",
              "          const docLink = document.createElement('div');\n",
              "          docLink.innerHTML = docLinkHtml;\n",
              "          element.appendChild(docLink);\n",
              "        }\n",
              "      </script>\n",
              "    </div>\n",
              "  </div>\n",
              "  "
            ]
          },
          "metadata": {},
          "execution_count": 5
        }
      ]
    },
    {
      "cell_type": "markdown",
      "source": [
        "## 1.&nbsp; Category creation by search term\n",
        "Let's start by creating a column `category`. For now we'll fill this column with a blank string `\"\"`."
      ],
      "metadata": {
        "id": "ll6nfKeqtUSb"
      }
    },
    {
      "cell_type": "code",
      "source": [
        "product_category_df[\"category\"] = \"\"\n",
        "product_category_df.head()"
      ],
      "metadata": {
        "id": "V0gB1AgftceZ",
        "colab": {
          "base_uri": "https://localhost:8080/",
          "height": 206
        },
        "outputId": "ec5114b7-5169-4e48-b29c-9fdad5f723d7"
      },
      "execution_count": 6,
      "outputs": [
        {
          "output_type": "execute_result",
          "data": {
            "text/plain": [
              "       sku                                           name  \\\n",
              "0  RAI0007              Silver Rain Design mStand Support   \n",
              "1  APP0023              Apple Mac Keyboard Keypad Spanish   \n",
              "2  APP0025               Mighty Mouse Apple Mouse for Mac   \n",
              "3  APP0072  Apple Dock to USB Cable iPhone and iPod white   \n",
              "4  KIN0007    Mac Memory Kingston 2GB 667MHz DDR2 SO-DIMM   \n",
              "\n",
              "                                                desc  price  in_stock  \\\n",
              "0       Aluminum support compatible with all MacBook  59.99         1   \n",
              "1          USB ultrathin keyboard Apple Mac Spanish.  59.00         0   \n",
              "2                             mouse Apple USB cable.  59.00         0   \n",
              "3              IPhone dock and USB Cable Apple iPod.  25.00         0   \n",
              "4  2GB RAM Mac mini and iMac (2006/07) MacBook Pr...  34.99         1   \n",
              "\n",
              "       type category  \n",
              "0      8696           \n",
              "1  13855401           \n",
              "2      1387           \n",
              "3      1230           \n",
              "4      1364           "
            ],
            "text/html": [
              "\n",
              "  <div id=\"df-fd38efbd-5f7e-4968-b749-3660e149a7d5\">\n",
              "    <div class=\"colab-df-container\">\n",
              "      <div>\n",
              "<style scoped>\n",
              "    .dataframe tbody tr th:only-of-type {\n",
              "        vertical-align: middle;\n",
              "    }\n",
              "\n",
              "    .dataframe tbody tr th {\n",
              "        vertical-align: top;\n",
              "    }\n",
              "\n",
              "    .dataframe thead th {\n",
              "        text-align: right;\n",
              "    }\n",
              "</style>\n",
              "<table border=\"1\" class=\"dataframe\">\n",
              "  <thead>\n",
              "    <tr style=\"text-align: right;\">\n",
              "      <th></th>\n",
              "      <th>sku</th>\n",
              "      <th>name</th>\n",
              "      <th>desc</th>\n",
              "      <th>price</th>\n",
              "      <th>in_stock</th>\n",
              "      <th>type</th>\n",
              "      <th>category</th>\n",
              "    </tr>\n",
              "  </thead>\n",
              "  <tbody>\n",
              "    <tr>\n",
              "      <th>0</th>\n",
              "      <td>RAI0007</td>\n",
              "      <td>Silver Rain Design mStand Support</td>\n",
              "      <td>Aluminum support compatible with all MacBook</td>\n",
              "      <td>59.99</td>\n",
              "      <td>1</td>\n",
              "      <td>8696</td>\n",
              "      <td></td>\n",
              "    </tr>\n",
              "    <tr>\n",
              "      <th>1</th>\n",
              "      <td>APP0023</td>\n",
              "      <td>Apple Mac Keyboard Keypad Spanish</td>\n",
              "      <td>USB ultrathin keyboard Apple Mac Spanish.</td>\n",
              "      <td>59.00</td>\n",
              "      <td>0</td>\n",
              "      <td>13855401</td>\n",
              "      <td></td>\n",
              "    </tr>\n",
              "    <tr>\n",
              "      <th>2</th>\n",
              "      <td>APP0025</td>\n",
              "      <td>Mighty Mouse Apple Mouse for Mac</td>\n",
              "      <td>mouse Apple USB cable.</td>\n",
              "      <td>59.00</td>\n",
              "      <td>0</td>\n",
              "      <td>1387</td>\n",
              "      <td></td>\n",
              "    </tr>\n",
              "    <tr>\n",
              "      <th>3</th>\n",
              "      <td>APP0072</td>\n",
              "      <td>Apple Dock to USB Cable iPhone and iPod white</td>\n",
              "      <td>IPhone dock and USB Cable Apple iPod.</td>\n",
              "      <td>25.00</td>\n",
              "      <td>0</td>\n",
              "      <td>1230</td>\n",
              "      <td></td>\n",
              "    </tr>\n",
              "    <tr>\n",
              "      <th>4</th>\n",
              "      <td>KIN0007</td>\n",
              "      <td>Mac Memory Kingston 2GB 667MHz DDR2 SO-DIMM</td>\n",
              "      <td>2GB RAM Mac mini and iMac (2006/07) MacBook Pr...</td>\n",
              "      <td>34.99</td>\n",
              "      <td>1</td>\n",
              "      <td>1364</td>\n",
              "      <td></td>\n",
              "    </tr>\n",
              "  </tbody>\n",
              "</table>\n",
              "</div>\n",
              "      <button class=\"colab-df-convert\" onclick=\"convertToInteractive('df-fd38efbd-5f7e-4968-b749-3660e149a7d5')\"\n",
              "              title=\"Convert this dataframe to an interactive table.\"\n",
              "              style=\"display:none;\">\n",
              "        \n",
              "  <svg xmlns=\"http://www.w3.org/2000/svg\" height=\"24px\"viewBox=\"0 0 24 24\"\n",
              "       width=\"24px\">\n",
              "    <path d=\"M0 0h24v24H0V0z\" fill=\"none\"/>\n",
              "    <path d=\"M18.56 5.44l.94 2.06.94-2.06 2.06-.94-2.06-.94-.94-2.06-.94 2.06-2.06.94zm-11 1L8.5 8.5l.94-2.06 2.06-.94-2.06-.94L8.5 2.5l-.94 2.06-2.06.94zm10 10l.94 2.06.94-2.06 2.06-.94-2.06-.94-.94-2.06-.94 2.06-2.06.94z\"/><path d=\"M17.41 7.96l-1.37-1.37c-.4-.4-.92-.59-1.43-.59-.52 0-1.04.2-1.43.59L10.3 9.45l-7.72 7.72c-.78.78-.78 2.05 0 2.83L4 21.41c.39.39.9.59 1.41.59.51 0 1.02-.2 1.41-.59l7.78-7.78 2.81-2.81c.8-.78.8-2.07 0-2.86zM5.41 20L4 18.59l7.72-7.72 1.47 1.35L5.41 20z\"/>\n",
              "  </svg>\n",
              "      </button>\n",
              "      \n",
              "  <style>\n",
              "    .colab-df-container {\n",
              "      display:flex;\n",
              "      flex-wrap:wrap;\n",
              "      gap: 12px;\n",
              "    }\n",
              "\n",
              "    .colab-df-convert {\n",
              "      background-color: #E8F0FE;\n",
              "      border: none;\n",
              "      border-radius: 50%;\n",
              "      cursor: pointer;\n",
              "      display: none;\n",
              "      fill: #1967D2;\n",
              "      height: 32px;\n",
              "      padding: 0 0 0 0;\n",
              "      width: 32px;\n",
              "    }\n",
              "\n",
              "    .colab-df-convert:hover {\n",
              "      background-color: #E2EBFA;\n",
              "      box-shadow: 0px 1px 2px rgba(60, 64, 67, 0.3), 0px 1px 3px 1px rgba(60, 64, 67, 0.15);\n",
              "      fill: #174EA6;\n",
              "    }\n",
              "\n",
              "    [theme=dark] .colab-df-convert {\n",
              "      background-color: #3B4455;\n",
              "      fill: #D2E3FC;\n",
              "    }\n",
              "\n",
              "    [theme=dark] .colab-df-convert:hover {\n",
              "      background-color: #434B5C;\n",
              "      box-shadow: 0px 1px 3px 1px rgba(0, 0, 0, 0.15);\n",
              "      filter: drop-shadow(0px 1px 2px rgba(0, 0, 0, 0.3));\n",
              "      fill: #FFFFFF;\n",
              "    }\n",
              "  </style>\n",
              "\n",
              "      <script>\n",
              "        const buttonEl =\n",
              "          document.querySelector('#df-fd38efbd-5f7e-4968-b749-3660e149a7d5 button.colab-df-convert');\n",
              "        buttonEl.style.display =\n",
              "          google.colab.kernel.accessAllowed ? 'block' : 'none';\n",
              "\n",
              "        async function convertToInteractive(key) {\n",
              "          const element = document.querySelector('#df-fd38efbd-5f7e-4968-b749-3660e149a7d5');\n",
              "          const dataTable =\n",
              "            await google.colab.kernel.invokeFunction('convertToInteractive',\n",
              "                                                     [key], {});\n",
              "          if (!dataTable) return;\n",
              "\n",
              "          const docLinkHtml = 'Like what you see? Visit the ' +\n",
              "            '<a target=\"_blank\" href=https://colab.research.google.com/notebooks/data_table.ipynb>data table notebook</a>'\n",
              "            + ' to learn more about interactive tables.';\n",
              "          element.innerHTML = '';\n",
              "          dataTable['output_type'] = 'display_data';\n",
              "          await google.colab.output.renderOutput(dataTable, element);\n",
              "          const docLink = document.createElement('div');\n",
              "          docLink.innerHTML = docLinkHtml;\n",
              "          element.appendChild(docLink);\n",
              "        }\n",
              "      </script>\n",
              "    </div>\n",
              "  </div>\n",
              "  "
            ]
          },
          "metadata": {},
          "execution_count": 6
        }
      ]
    },
    {
      "cell_type": "markdown",
      "source": [
        "We can find all the products with certain words in their `description` using `.loc[]` and `.str.contains()`. Here we'll look at all the items that have the word `keyboard` in their description."
      ],
      "metadata": {
        "id": "4V2cUNdoPK_4"
      }
    },
    {
      "cell_type": "code",
      "source": [
        "#product_category_df.loc[product_category_df.desc.str.lower().str.contains(\"keyboard\"), :]\n",
        "product_category_df.loc[product_category_df.name.str.lower().str.contains(\"apple\"), :]"
      ],
      "metadata": {
        "id": "o1VQXWPFBqPd",
        "colab": {
          "base_uri": "https://localhost:8080/",
          "height": 502
        },
        "outputId": "395f1903-2297-41a2-df8f-bd569c81c36c"
      },
      "execution_count": 268,
      "outputs": [
        {
          "output_type": "execute_result",
          "data": {
            "text/plain": [
              "          sku  \\\n",
              "1     APP0023   \n",
              "2     APP0025   \n",
              "3     APP0072   \n",
              "5     APP0073   \n",
              "9     APP0100   \n",
              "...       ...   \n",
              "9972  AP20649   \n",
              "9974  AP20474   \n",
              "9977  AP20471   \n",
              "9980  AP20472   \n",
              "9987  BEL0376   \n",
              "\n",
              "                                                                                        name  \\\n",
              "1                                                          Apple Mac Keyboard Keypad Spanish   \n",
              "2                                                           Mighty Mouse Apple Mouse for Mac   \n",
              "3                                              Apple Dock to USB Cable iPhone and iPod white   \n",
              "5                                             Apple Composite AV Cable iPhone and iPod white   \n",
              "9                                                     Apple Adapter Mini Display Port to VGA   \n",
              "...                                                                                      ...   \n",
              "9972                                     Like new - Apple Leather Case iPhone Case 8/7 Black   \n",
              "9974  Like new - Apple Watch GPS 38mm Case Series 3 Aluminum Space Gray and Black Belt Sport   \n",
              "9977                                               Apple Thunderbolt to FireWire 800 adapter   \n",
              "9980                                                Like new - Apple charging cable 2m USB-C   \n",
              "9987                                                 Belkin Travel Support Apple Watch Black   \n",
              "\n",
              "                                                                            desc  \\\n",
              "1                                      USB ultrathin keyboard Apple Mac Spanish.   \n",
              "2                                                         mouse Apple USB cable.   \n",
              "3                                          IPhone dock and USB Cable Apple iPod.   \n",
              "5                              IPhone and iPod AV Cable Dock to Composite Video.   \n",
              "9            Adapter Mini Display Port to VGA MacBook and MacBook Pro (unibody).   \n",
              "...                                                                          ...   \n",
              "9972                    Reconditioned sleeve leather and microfiber Apple iPhone   \n",
              "9974  Reconditioned Apple Watch 38mm series 3 with GPS altimeter and submersible   \n",
              "9977               Reconditioned connection adapter Thunderbolt to Firewire 800.   \n",
              "9980                              Apple USB-C Cable 2 meters Refurbished MacBook   \n",
              "9987       compact and portable stand vertically or horizontally for Apple Watch   \n",
              "\n",
              "       price  in_stock      type  \n",
              "1      59.00         0  13855401  \n",
              "2      59.00         0      1387  \n",
              "3      25.00         0      1230  \n",
              "5      45.00         0      1230  \n",
              "9      35.00         0      1325  \n",
              "...      ...       ...       ...  \n",
              "9972   55.00         0  11865403  \n",
              "9974  369.00         0  24885185  \n",
              "9977   35.00         0      1325  \n",
              "9980   25.00         0      1325  \n",
              "9987   29.99         1     12282  \n",
              "\n",
              "[2617 rows x 6 columns]"
            ],
            "text/html": [
              "\n",
              "  <div id=\"df-b23cc3c2-b803-4865-9c9e-e140ba74089f\">\n",
              "    <div class=\"colab-df-container\">\n",
              "      <div>\n",
              "<style scoped>\n",
              "    .dataframe tbody tr th:only-of-type {\n",
              "        vertical-align: middle;\n",
              "    }\n",
              "\n",
              "    .dataframe tbody tr th {\n",
              "        vertical-align: top;\n",
              "    }\n",
              "\n",
              "    .dataframe thead th {\n",
              "        text-align: right;\n",
              "    }\n",
              "</style>\n",
              "<table border=\"1\" class=\"dataframe\">\n",
              "  <thead>\n",
              "    <tr style=\"text-align: right;\">\n",
              "      <th></th>\n",
              "      <th>sku</th>\n",
              "      <th>name</th>\n",
              "      <th>desc</th>\n",
              "      <th>price</th>\n",
              "      <th>in_stock</th>\n",
              "      <th>type</th>\n",
              "    </tr>\n",
              "  </thead>\n",
              "  <tbody>\n",
              "    <tr>\n",
              "      <th>1</th>\n",
              "      <td>APP0023</td>\n",
              "      <td>Apple Mac Keyboard Keypad Spanish</td>\n",
              "      <td>USB ultrathin keyboard Apple Mac Spanish.</td>\n",
              "      <td>59.00</td>\n",
              "      <td>0</td>\n",
              "      <td>13855401</td>\n",
              "    </tr>\n",
              "    <tr>\n",
              "      <th>2</th>\n",
              "      <td>APP0025</td>\n",
              "      <td>Mighty Mouse Apple Mouse for Mac</td>\n",
              "      <td>mouse Apple USB cable.</td>\n",
              "      <td>59.00</td>\n",
              "      <td>0</td>\n",
              "      <td>1387</td>\n",
              "    </tr>\n",
              "    <tr>\n",
              "      <th>3</th>\n",
              "      <td>APP0072</td>\n",
              "      <td>Apple Dock to USB Cable iPhone and iPod white</td>\n",
              "      <td>IPhone dock and USB Cable Apple iPod.</td>\n",
              "      <td>25.00</td>\n",
              "      <td>0</td>\n",
              "      <td>1230</td>\n",
              "    </tr>\n",
              "    <tr>\n",
              "      <th>5</th>\n",
              "      <td>APP0073</td>\n",
              "      <td>Apple Composite AV Cable iPhone and iPod white</td>\n",
              "      <td>IPhone and iPod AV Cable Dock to Composite Video.</td>\n",
              "      <td>45.00</td>\n",
              "      <td>0</td>\n",
              "      <td>1230</td>\n",
              "    </tr>\n",
              "    <tr>\n",
              "      <th>9</th>\n",
              "      <td>APP0100</td>\n",
              "      <td>Apple Adapter Mini Display Port to VGA</td>\n",
              "      <td>Adapter Mini Display Port to VGA MacBook and MacBook Pro (unibody).</td>\n",
              "      <td>35.00</td>\n",
              "      <td>0</td>\n",
              "      <td>1325</td>\n",
              "    </tr>\n",
              "    <tr>\n",
              "      <th>...</th>\n",
              "      <td>...</td>\n",
              "      <td>...</td>\n",
              "      <td>...</td>\n",
              "      <td>...</td>\n",
              "      <td>...</td>\n",
              "      <td>...</td>\n",
              "    </tr>\n",
              "    <tr>\n",
              "      <th>9972</th>\n",
              "      <td>AP20649</td>\n",
              "      <td>Like new - Apple Leather Case iPhone Case 8/7 Black</td>\n",
              "      <td>Reconditioned sleeve leather and microfiber Apple iPhone</td>\n",
              "      <td>55.00</td>\n",
              "      <td>0</td>\n",
              "      <td>11865403</td>\n",
              "    </tr>\n",
              "    <tr>\n",
              "      <th>9974</th>\n",
              "      <td>AP20474</td>\n",
              "      <td>Like new - Apple Watch GPS 38mm Case Series 3 Aluminum Space Gray and Black Belt Sport</td>\n",
              "      <td>Reconditioned Apple Watch 38mm series 3 with GPS altimeter and submersible</td>\n",
              "      <td>369.00</td>\n",
              "      <td>0</td>\n",
              "      <td>24885185</td>\n",
              "    </tr>\n",
              "    <tr>\n",
              "      <th>9977</th>\n",
              "      <td>AP20471</td>\n",
              "      <td>Apple Thunderbolt to FireWire 800 adapter</td>\n",
              "      <td>Reconditioned connection adapter Thunderbolt to Firewire 800.</td>\n",
              "      <td>35.00</td>\n",
              "      <td>0</td>\n",
              "      <td>1325</td>\n",
              "    </tr>\n",
              "    <tr>\n",
              "      <th>9980</th>\n",
              "      <td>AP20472</td>\n",
              "      <td>Like new - Apple charging cable 2m USB-C</td>\n",
              "      <td>Apple USB-C Cable 2 meters Refurbished MacBook</td>\n",
              "      <td>25.00</td>\n",
              "      <td>0</td>\n",
              "      <td>1325</td>\n",
              "    </tr>\n",
              "    <tr>\n",
              "      <th>9987</th>\n",
              "      <td>BEL0376</td>\n",
              "      <td>Belkin Travel Support Apple Watch Black</td>\n",
              "      <td>compact and portable stand vertically or horizontally for Apple Watch</td>\n",
              "      <td>29.99</td>\n",
              "      <td>1</td>\n",
              "      <td>12282</td>\n",
              "    </tr>\n",
              "  </tbody>\n",
              "</table>\n",
              "<p>2617 rows × 6 columns</p>\n",
              "</div>\n",
              "      <button class=\"colab-df-convert\" onclick=\"convertToInteractive('df-b23cc3c2-b803-4865-9c9e-e140ba74089f')\"\n",
              "              title=\"Convert this dataframe to an interactive table.\"\n",
              "              style=\"display:none;\">\n",
              "        \n",
              "  <svg xmlns=\"http://www.w3.org/2000/svg\" height=\"24px\"viewBox=\"0 0 24 24\"\n",
              "       width=\"24px\">\n",
              "    <path d=\"M0 0h24v24H0V0z\" fill=\"none\"/>\n",
              "    <path d=\"M18.56 5.44l.94 2.06.94-2.06 2.06-.94-2.06-.94-.94-2.06-.94 2.06-2.06.94zm-11 1L8.5 8.5l.94-2.06 2.06-.94-2.06-.94L8.5 2.5l-.94 2.06-2.06.94zm10 10l.94 2.06.94-2.06 2.06-.94-2.06-.94-.94-2.06-.94 2.06-2.06.94z\"/><path d=\"M17.41 7.96l-1.37-1.37c-.4-.4-.92-.59-1.43-.59-.52 0-1.04.2-1.43.59L10.3 9.45l-7.72 7.72c-.78.78-.78 2.05 0 2.83L4 21.41c.39.39.9.59 1.41.59.51 0 1.02-.2 1.41-.59l7.78-7.78 2.81-2.81c.8-.78.8-2.07 0-2.86zM5.41 20L4 18.59l7.72-7.72 1.47 1.35L5.41 20z\"/>\n",
              "  </svg>\n",
              "      </button>\n",
              "      \n",
              "  <style>\n",
              "    .colab-df-container {\n",
              "      display:flex;\n",
              "      flex-wrap:wrap;\n",
              "      gap: 12px;\n",
              "    }\n",
              "\n",
              "    .colab-df-convert {\n",
              "      background-color: #E8F0FE;\n",
              "      border: none;\n",
              "      border-radius: 50%;\n",
              "      cursor: pointer;\n",
              "      display: none;\n",
              "      fill: #1967D2;\n",
              "      height: 32px;\n",
              "      padding: 0 0 0 0;\n",
              "      width: 32px;\n",
              "    }\n",
              "\n",
              "    .colab-df-convert:hover {\n",
              "      background-color: #E2EBFA;\n",
              "      box-shadow: 0px 1px 2px rgba(60, 64, 67, 0.3), 0px 1px 3px 1px rgba(60, 64, 67, 0.15);\n",
              "      fill: #174EA6;\n",
              "    }\n",
              "\n",
              "    [theme=dark] .colab-df-convert {\n",
              "      background-color: #3B4455;\n",
              "      fill: #D2E3FC;\n",
              "    }\n",
              "\n",
              "    [theme=dark] .colab-df-convert:hover {\n",
              "      background-color: #434B5C;\n",
              "      box-shadow: 0px 1px 3px 1px rgba(0, 0, 0, 0.15);\n",
              "      filter: drop-shadow(0px 1px 2px rgba(0, 0, 0, 0.3));\n",
              "      fill: #FFFFFF;\n",
              "    }\n",
              "  </style>\n",
              "\n",
              "      <script>\n",
              "        const buttonEl =\n",
              "          document.querySelector('#df-b23cc3c2-b803-4865-9c9e-e140ba74089f button.colab-df-convert');\n",
              "        buttonEl.style.display =\n",
              "          google.colab.kernel.accessAllowed ? 'block' : 'none';\n",
              "\n",
              "        async function convertToInteractive(key) {\n",
              "          const element = document.querySelector('#df-b23cc3c2-b803-4865-9c9e-e140ba74089f');\n",
              "          const dataTable =\n",
              "            await google.colab.kernel.invokeFunction('convertToInteractive',\n",
              "                                                     [key], {});\n",
              "          if (!dataTable) return;\n",
              "\n",
              "          const docLinkHtml = 'Like what you see? Visit the ' +\n",
              "            '<a target=\"_blank\" href=https://colab.research.google.com/notebooks/data_table.ipynb>data table notebook</a>'\n",
              "            + ' to learn more about interactive tables.';\n",
              "          element.innerHTML = '';\n",
              "          dataTable['output_type'] = 'display_data';\n",
              "          await google.colab.output.renderOutput(dataTable, element);\n",
              "          const docLink = document.createElement('div');\n",
              "          docLink.innerHTML = docLinkHtml;\n",
              "          element.appendChild(docLink);\n",
              "        }\n",
              "      </script>\n",
              "    </div>\n",
              "  </div>\n",
              "  "
            ]
          },
          "metadata": {},
          "execution_count": 268
        }
      ]
    },
    {
      "cell_type": "markdown",
      "source": [
        "Next we change the value in the category column to `keyboard` for all of these keyboard products. "
      ],
      "metadata": {
        "id": "hdNa39muPhvh"
      }
    },
    {
      "cell_type": "code",
      "source": [
        "product_category_df.loc[product_category_df.desc.str.lower().str.contains(\"keyboard\"), \"category\"] = \"keyboard\"\n",
        "#product_category_df.loc[product_category_df.desc.str.lower().str.contains(\"keyboard\"), \"category\"] = \"keyboard\""
      ],
      "metadata": {
        "id": "WTbebBR63Khc"
      },
      "execution_count": 269,
      "outputs": []
    },
    {
      "cell_type": "markdown",
      "source": [
        "Let's take a look at the affect that had on the `category` column."
      ],
      "metadata": {
        "id": "fcYoD6dbPzK9"
      }
    },
    {
      "cell_type": "code",
      "source": [
        "product_category_df.category.value_counts()"
      ],
      "metadata": {
        "id": "YhHJzCs83Mgp",
        "colab": {
          "base_uri": "https://localhost:8080/"
        },
        "outputId": "c7fb643f-ac77-47df-d8b9-3d9be5c3fac7"
      },
      "execution_count": 9,
      "outputs": [
        {
          "output_type": "execute_result",
          "data": {
            "text/plain": [
              "            9903\n",
              "keyboard      89\n",
              "Name: category, dtype: int64"
            ]
          },
          "metadata": {},
          "execution_count": 9
        }
      ]
    },
    {
      "cell_type": "markdown",
      "source": [
        "## 2.&nbsp; Category creation using regex\n",
        "We can also use a products `name` to select products for our categories."
      ],
      "metadata": {
        "id": "zKmy1xNjtcOr"
      }
    },
    {
      "cell_type": "code",
      "source": [
        "product_category_df.loc[product_category_df.name.str.lower().str.contains(\"apple iphone\"), :]"
      ],
      "metadata": {
        "id": "MApPzEVM3N6g"
      },
      "execution_count": null,
      "outputs": []
    },
    {
      "cell_type": "markdown",
      "source": [
        "Looks like we get a lot of accessories included in this search. We can refine this using a little regex. Here we will add `.{0,7}` at the beginning of the search: this means we will find all `apple iphone`'s that have 7 or less characters preceding the term \"apple iphone\" - if there's 8 characters preceding the search term, it won't be found. This should help refine our search by using the nomenclature of the DataFrame to our advantage.\n",
        "\n",
        "If you feel unsure about regex, please use [regex101](https://regex101.com/). It's really useful for checking your code, and parts of other peoples code that you're unsure about."
      ],
      "metadata": {
        "id": "aai7zoKNQSxX"
      }
    },
    {
      "cell_type": "code",
      "source": [
        "product_category_df.loc[product_category_df.name.str.lower().str.contains(\"^.{0,7}apple iphone\"), :]"
      ],
      "metadata": {
        "id": "mxVST68uCjp4"
      },
      "execution_count": null,
      "outputs": []
    },
    {
      "cell_type": "markdown",
      "source": [
        "Now we can use the same trick as before to set the category - selecting the `category` column and setting it to our string of choice."
      ],
      "metadata": {
        "id": "CYyrvQ2qSLuZ"
      }
    },
    {
      "cell_type": "code",
      "source": [
        "product_category_df.loc[product_category_df.name.str.lower().str.contains(\"^.{0,7}apple iphone\"), \"category\"] = \"smartphone\""
      ],
      "metadata": {
        "id": "yTCbUyK0BMb4"
      },
      "execution_count": null,
      "outputs": []
    },
    {
      "cell_type": "code",
      "source": [
        "product_category_df.category.value_counts()"
      ],
      "metadata": {
        "id": "3TTuCTuW3YeL"
      },
      "execution_count": null,
      "outputs": []
    },
    {
      "cell_type": "markdown",
      "source": [
        "## 3.&nbsp; One product with multiple categories\n",
        "A product may fit into multiple categories. To help us create multiple categories for one product we will use the python addition assignment `+=`. The addition assignment is a shorthand way to add something (number, string, etc...) to a variable without changing the variable name. \n",
        "\n",
        "Let's have a look at a couple of examples."
      ],
      "metadata": {
        "id": "foWHV_NItf_Z"
      }
    },
    {
      "cell_type": "code",
      "source": [
        "a = 10\n",
        "a = a + 5\n",
        "a"
      ],
      "metadata": {
        "id": "GDAclDOIourZ"
      },
      "execution_count": null,
      "outputs": []
    },
    {
      "cell_type": "code",
      "source": [
        "a = 10\n",
        "a += 5\n",
        "a"
      ],
      "metadata": {
        "id": "hwZIQWTKpEBP"
      },
      "execution_count": null,
      "outputs": []
    },
    {
      "cell_type": "code",
      "source": [
        "b = \"Tyrannosaurus\"\n",
        "b = b + \" rex\"\n",
        "b"
      ],
      "metadata": {
        "id": "ftaB_cw8o_25"
      },
      "execution_count": null,
      "outputs": []
    },
    {
      "cell_type": "code",
      "source": [
        "b = \"Tyrannosaurus\"\n",
        "b += \" rex\"\n",
        "b"
      ],
      "metadata": {
        "id": "5Tv19vbdpZLO"
      },
      "execution_count": null,
      "outputs": []
    },
    {
      "cell_type": "markdown",
      "source": [
        "Now let's look at how this can help us in our category creation.\n",
        "\n",
        "First, we'll reset all the values in the category column to an empty string `\"\"`."
      ],
      "metadata": {
        "id": "V3q9xza6q3MZ"
      }
    },
    {
      "cell_type": "code",
      "source": [
        "product_category_df[\"category\"] = \"\""
      ],
      "metadata": {
        "id": "zYQeeC6E86T_"
      },
      "execution_count": 10,
      "outputs": []
    },
    {
      "cell_type": "markdown",
      "source": [
        "Now, let's create some categories and utilise the addition assignment."
      ],
      "metadata": {
        "id": "LYGZ67rnrLU8"
      }
    },
    {
      "cell_type": "code",
      "source": [
        "product_category_df.loc[product_category_df.desc.str.lower().str.contains(\"keyboard\"), \"category\"] += \", keyboard\"\n",
        "product_category_df.loc[product_category_df.name.str.lower().str.contains(\"^.{0,7}apple iphone\"), \"category\"] += \", smartphone\"\n",
        "product_category_df.loc[product_category_df.name.str.lower().str.contains(\"^.{0,7}apple ipod\"), \"category\"] += \", ipod\"\n",
        "product_category_df.loc[product_category_df.name.str.lower().str.contains(\"^.{0,7}apple ipad|tablet\"), \"category\"] += \", tablet\"\n",
        "product_category_df.loc[product_category_df.name.str.lower().str.contains(\"imac|mac mini|mac pro\"), \"category\"] += \", desktop\""
      ],
      "metadata": {
        "id": "ZOtQHJqsn3Qv"
      },
      "execution_count": 11,
      "outputs": []
    },
    {
      "cell_type": "code",
      "source": [
        "product_category_df.category.value_counts()"
      ],
      "metadata": {
        "id": "EAS_yezTn4m_"
      },
      "execution_count": null,
      "outputs": []
    },
    {
      "cell_type": "markdown",
      "source": [
        "As you can see, some products now have 2 categories instead of just one. At the end you can use your skills with string to tidy up the opening comma and space in the categories column."
      ],
      "metadata": {
        "id": "tZktZ5udrTQn"
      }
    },
    {
      "cell_type": "markdown",
      "source": [
        "# Challenge. Your categories\n",
        "Now it's your turn. We'll reset the Dataframe so that no categories exist, and it's up to you to create the categories based on keywords in the name and description. Feel free to go wild and make as many categories as you like.\n",
        "* Remember you can also use regex to refine your searches.\n",
        "* Remember you can use the or operator `|` to search for multiple terms at once.\n",
        "* Remember to tidy up any untidy strings at the end."
      ],
      "metadata": {
        "id": "0c7iUc3J87_b"
      }
    },
    {
      "cell_type": "code",
      "source": [
        "# your code here\n",
        "\n",
        "\n",
        "product_category_df = products_cl.copy()\n",
        "\n"
      ],
      "metadata": {
        "id": "LPcqdik6sEwA"
      },
      "execution_count": 278,
      "outputs": []
    },
    {
      "cell_type": "code",
      "source": [
        "product_category_df[\"category\"] = \"\""
      ],
      "metadata": {
        "id": "6S3c422239OU"
      },
      "execution_count": 303,
      "outputs": []
    },
    {
      "cell_type": "code",
      "source": [
        "product_category_df.category.value_counts()"
      ],
      "metadata": {
        "colab": {
          "base_uri": "https://localhost:8080/"
        },
        "id": "tvTf-z_r4CIc",
        "outputId": "1190883a-1b0a-4aee-fa81-5d5cd570cf8d"
      },
      "execution_count": 306,
      "outputs": [
        {
          "output_type": "execute_result",
          "data": {
            "text/plain": [
              "                    5438\n",
              ", apple products    4554\n",
              "Name: category, dtype: int64"
            ]
          },
          "metadata": {},
          "execution_count": 306
        }
      ]
    },
    {
      "cell_type": "code",
      "source": [
        "product_category_df.loc[product_category_df.name.str.lower().str.contains(\"imac|mac mini|mac pro|apple|iphone|ipod|retina|watch|airpods\"), \"category\"] += \", apple products\""
      ],
      "metadata": {
        "id": "MKDAbyJB4Of6"
      },
      "execution_count": 305,
      "outputs": []
    },
    {
      "cell_type": "markdown",
      "source": [
        "## 4.&nbsp; [BONUS] Using `type` to create categories\n",
        "There could be another way to create categories, but this one you'll have to explore this one alone.\n",
        "\n",
        "We have the mysterious column `type` in the `products` table. This could potentially be ready made categories labelled with numbers instead of words. Let's have an investigate."
      ],
      "metadata": {
        "id": "RZmoYd6-tsvG"
      }
    },
    {
      "cell_type": "code",
      "source": [
        "category_type_df = products_cl.copy()"
      ],
      "metadata": {
        "id": "K5HJA7_M2nzw"
      },
      "execution_count": 6,
      "outputs": []
    },
    {
      "cell_type": "markdown",
      "source": [
        "Here are the `type`'s that have the most products."
      ],
      "metadata": {
        "id": "rqjhiJiE3Xbm"
      }
    },
    {
      "cell_type": "code",
      "source": [
        "category_type_df.groupby(\"type\").count().nsmallest(5, \"sku\")"
      ],
      "metadata": {
        "id": "OwzkbYnvNDnu",
        "colab": {
          "base_uri": "https://localhost:8080/",
          "height": 238
        },
        "outputId": "5c2fd36a-b69b-4088-cb1b-11edafa54c0b"
      },
      "execution_count": 271,
      "outputs": [
        {
          "output_type": "execute_result",
          "data": {
            "text/plain": [
              "           sku  name  desc  price  in_stock  category\n",
              "type                                                 \n",
              "113464259    1     1     1      1         1         1\n",
              "11434        1     1     1      1         1         1\n",
              "12282        1     1     1      1         1         1\n",
              "21622158     1     1     1      1         1         1\n",
              "5,45E+15     1     1     1      1         1         1"
            ],
            "text/html": [
              "\n",
              "  <div id=\"df-59274d52-cd92-45bf-b3c2-c4a99d7821c6\">\n",
              "    <div class=\"colab-df-container\">\n",
              "      <div>\n",
              "<style scoped>\n",
              "    .dataframe tbody tr th:only-of-type {\n",
              "        vertical-align: middle;\n",
              "    }\n",
              "\n",
              "    .dataframe tbody tr th {\n",
              "        vertical-align: top;\n",
              "    }\n",
              "\n",
              "    .dataframe thead th {\n",
              "        text-align: right;\n",
              "    }\n",
              "</style>\n",
              "<table border=\"1\" class=\"dataframe\">\n",
              "  <thead>\n",
              "    <tr style=\"text-align: right;\">\n",
              "      <th></th>\n",
              "      <th>sku</th>\n",
              "      <th>name</th>\n",
              "      <th>desc</th>\n",
              "      <th>price</th>\n",
              "      <th>in_stock</th>\n",
              "      <th>category</th>\n",
              "    </tr>\n",
              "    <tr>\n",
              "      <th>type</th>\n",
              "      <th></th>\n",
              "      <th></th>\n",
              "      <th></th>\n",
              "      <th></th>\n",
              "      <th></th>\n",
              "      <th></th>\n",
              "    </tr>\n",
              "  </thead>\n",
              "  <tbody>\n",
              "    <tr>\n",
              "      <th>113464259</th>\n",
              "      <td>1</td>\n",
              "      <td>1</td>\n",
              "      <td>1</td>\n",
              "      <td>1</td>\n",
              "      <td>1</td>\n",
              "      <td>1</td>\n",
              "    </tr>\n",
              "    <tr>\n",
              "      <th>11434</th>\n",
              "      <td>1</td>\n",
              "      <td>1</td>\n",
              "      <td>1</td>\n",
              "      <td>1</td>\n",
              "      <td>1</td>\n",
              "      <td>1</td>\n",
              "    </tr>\n",
              "    <tr>\n",
              "      <th>12282</th>\n",
              "      <td>1</td>\n",
              "      <td>1</td>\n",
              "      <td>1</td>\n",
              "      <td>1</td>\n",
              "      <td>1</td>\n",
              "      <td>1</td>\n",
              "    </tr>\n",
              "    <tr>\n",
              "      <th>21622158</th>\n",
              "      <td>1</td>\n",
              "      <td>1</td>\n",
              "      <td>1</td>\n",
              "      <td>1</td>\n",
              "      <td>1</td>\n",
              "      <td>1</td>\n",
              "    </tr>\n",
              "    <tr>\n",
              "      <th>5,45E+15</th>\n",
              "      <td>1</td>\n",
              "      <td>1</td>\n",
              "      <td>1</td>\n",
              "      <td>1</td>\n",
              "      <td>1</td>\n",
              "      <td>1</td>\n",
              "    </tr>\n",
              "  </tbody>\n",
              "</table>\n",
              "</div>\n",
              "      <button class=\"colab-df-convert\" onclick=\"convertToInteractive('df-59274d52-cd92-45bf-b3c2-c4a99d7821c6')\"\n",
              "              title=\"Convert this dataframe to an interactive table.\"\n",
              "              style=\"display:none;\">\n",
              "        \n",
              "  <svg xmlns=\"http://www.w3.org/2000/svg\" height=\"24px\"viewBox=\"0 0 24 24\"\n",
              "       width=\"24px\">\n",
              "    <path d=\"M0 0h24v24H0V0z\" fill=\"none\"/>\n",
              "    <path d=\"M18.56 5.44l.94 2.06.94-2.06 2.06-.94-2.06-.94-.94-2.06-.94 2.06-2.06.94zm-11 1L8.5 8.5l.94-2.06 2.06-.94-2.06-.94L8.5 2.5l-.94 2.06-2.06.94zm10 10l.94 2.06.94-2.06 2.06-.94-2.06-.94-.94-2.06-.94 2.06-2.06.94z\"/><path d=\"M17.41 7.96l-1.37-1.37c-.4-.4-.92-.59-1.43-.59-.52 0-1.04.2-1.43.59L10.3 9.45l-7.72 7.72c-.78.78-.78 2.05 0 2.83L4 21.41c.39.39.9.59 1.41.59.51 0 1.02-.2 1.41-.59l7.78-7.78 2.81-2.81c.8-.78.8-2.07 0-2.86zM5.41 20L4 18.59l7.72-7.72 1.47 1.35L5.41 20z\"/>\n",
              "  </svg>\n",
              "      </button>\n",
              "      \n",
              "  <style>\n",
              "    .colab-df-container {\n",
              "      display:flex;\n",
              "      flex-wrap:wrap;\n",
              "      gap: 12px;\n",
              "    }\n",
              "\n",
              "    .colab-df-convert {\n",
              "      background-color: #E8F0FE;\n",
              "      border: none;\n",
              "      border-radius: 50%;\n",
              "      cursor: pointer;\n",
              "      display: none;\n",
              "      fill: #1967D2;\n",
              "      height: 32px;\n",
              "      padding: 0 0 0 0;\n",
              "      width: 32px;\n",
              "    }\n",
              "\n",
              "    .colab-df-convert:hover {\n",
              "      background-color: #E2EBFA;\n",
              "      box-shadow: 0px 1px 2px rgba(60, 64, 67, 0.3), 0px 1px 3px 1px rgba(60, 64, 67, 0.15);\n",
              "      fill: #174EA6;\n",
              "    }\n",
              "\n",
              "    [theme=dark] .colab-df-convert {\n",
              "      background-color: #3B4455;\n",
              "      fill: #D2E3FC;\n",
              "    }\n",
              "\n",
              "    [theme=dark] .colab-df-convert:hover {\n",
              "      background-color: #434B5C;\n",
              "      box-shadow: 0px 1px 3px 1px rgba(0, 0, 0, 0.15);\n",
              "      filter: drop-shadow(0px 1px 2px rgba(0, 0, 0, 0.3));\n",
              "      fill: #FFFFFF;\n",
              "    }\n",
              "  </style>\n",
              "\n",
              "      <script>\n",
              "        const buttonEl =\n",
              "          document.querySelector('#df-59274d52-cd92-45bf-b3c2-c4a99d7821c6 button.colab-df-convert');\n",
              "        buttonEl.style.display =\n",
              "          google.colab.kernel.accessAllowed ? 'block' : 'none';\n",
              "\n",
              "        async function convertToInteractive(key) {\n",
              "          const element = document.querySelector('#df-59274d52-cd92-45bf-b3c2-c4a99d7821c6');\n",
              "          const dataTable =\n",
              "            await google.colab.kernel.invokeFunction('convertToInteractive',\n",
              "                                                     [key], {});\n",
              "          if (!dataTable) return;\n",
              "\n",
              "          const docLinkHtml = 'Like what you see? Visit the ' +\n",
              "            '<a target=\"_blank\" href=https://colab.research.google.com/notebooks/data_table.ipynb>data table notebook</a>'\n",
              "            + ' to learn more about interactive tables.';\n",
              "          element.innerHTML = '';\n",
              "          dataTable['output_type'] = 'display_data';\n",
              "          await google.colab.output.renderOutput(dataTable, element);\n",
              "          const docLink = document.createElement('div');\n",
              "          docLink.innerHTML = docLinkHtml;\n",
              "          element.appendChild(docLink);\n",
              "        }\n",
              "      </script>\n",
              "    </div>\n",
              "  </div>\n",
              "  "
            ]
          },
          "metadata": {},
          "execution_count": 271
        }
      ]
    },
    {
      "cell_type": "markdown",
      "source": [
        "Let's have a look at the first `type` to see if we can make categories from this column."
      ],
      "metadata": {
        "id": "gxkXWt9K3lAl"
      }
    },
    {
      "cell_type": "code",
      "source": [
        "category_type_df.loc[category_type_df[\"type\"] == \"11865403\", :].sample(10)"
      ],
      "metadata": {
        "id": "qDcnQEXo3_2Q",
        "colab": {
          "base_uri": "https://localhost:8080/",
          "height": 363
        },
        "outputId": "a3cb98c5-c721-4de7-f934-66214685f241"
      },
      "execution_count": 71,
      "outputs": [
        {
          "output_type": "execute_result",
          "data": {
            "text/plain": [
              "            sku                                               name  \\\n",
              "8909    BEL0323  Belkin iPhone Case SheerForce 8 Plus / 7 Plus ...   \n",
              "8229    SPE0197  IPhone Case Speck Presidio Show 8/7 / 6s / 6 C...   \n",
              "5216    APP1686       Apple Leather Case iPhone Case 7 Black Storm   \n",
              "5144    MUJ0023  Mujjo Leather Leather iPhone Case 8 Plus / 7 P...   \n",
              "6778    APP1998     Apple iPhone Silicone Case Case 7 Black Pebble   \n",
              "8714  APP1673-A    Open - Apple iPhone Silicone Case Cover Red 8/7   \n",
              "5227    APP1694  Apple iPhone Leather Case Cover 7 Brown Candy ...   \n",
              "1064    MOS0126          Moshi iGlaze Case for iPhone 6 / 6S Black   \n",
              "5461    GRT0345            Griffin Reveal Case Black iPhone 6 Plus   \n",
              "9038    NOM0027    Nomad Leather Folio Case iPhone Brown leather X   \n",
              "\n",
              "                                                   desc  price  in_stock  \\\n",
              "8909  Case against impact and wear resistant materia...  24.99         1   \n",
              "8229  Protective cover with anti-impact polycarbonat...  24.95         1   \n",
              "5216  ultrathin leather case and microfiber premium ...  55.00         0   \n",
              "5144  ultrafine material cover with vegetable tanned...  44.90         0   \n",
              "6778  Ultrathin silicone case and microfiber premium...  39.00         0   \n",
              "8714  Ultrathin silicone case and microfiber premium...  39.00         0   \n",
              "5227  ultrathin leather case and microfiber premium ...  59.00         0   \n",
              "1064  Rigid shell shock protection and rasguÌ ± os f...  30.00         0   \n",
              "5461  resistant pouch with transparent backside for ...  19.99         0   \n",
              "9038  Leather Case cover high quality microfiber int...  49.99         1   \n",
              "\n",
              "          type  \n",
              "8909  11865403  \n",
              "8229  11865403  \n",
              "5216  11865403  \n",
              "5144  11865403  \n",
              "6778  11865403  \n",
              "8714  11865403  \n",
              "5227  11865403  \n",
              "1064  11865403  \n",
              "5461  11865403  \n",
              "9038  11865403  "
            ],
            "text/html": [
              "\n",
              "  <div id=\"df-cf9f6d60-c844-48c2-8572-988dfea5d0be\">\n",
              "    <div class=\"colab-df-container\">\n",
              "      <div>\n",
              "<style scoped>\n",
              "    .dataframe tbody tr th:only-of-type {\n",
              "        vertical-align: middle;\n",
              "    }\n",
              "\n",
              "    .dataframe tbody tr th {\n",
              "        vertical-align: top;\n",
              "    }\n",
              "\n",
              "    .dataframe thead th {\n",
              "        text-align: right;\n",
              "    }\n",
              "</style>\n",
              "<table border=\"1\" class=\"dataframe\">\n",
              "  <thead>\n",
              "    <tr style=\"text-align: right;\">\n",
              "      <th></th>\n",
              "      <th>sku</th>\n",
              "      <th>name</th>\n",
              "      <th>desc</th>\n",
              "      <th>price</th>\n",
              "      <th>in_stock</th>\n",
              "      <th>type</th>\n",
              "    </tr>\n",
              "  </thead>\n",
              "  <tbody>\n",
              "    <tr>\n",
              "      <th>8909</th>\n",
              "      <td>BEL0323</td>\n",
              "      <td>Belkin iPhone Case SheerForce 8 Plus / 7 Plus ...</td>\n",
              "      <td>Case against impact and wear resistant materia...</td>\n",
              "      <td>24.99</td>\n",
              "      <td>1</td>\n",
              "      <td>11865403</td>\n",
              "    </tr>\n",
              "    <tr>\n",
              "      <th>8229</th>\n",
              "      <td>SPE0197</td>\n",
              "      <td>IPhone Case Speck Presidio Show 8/7 / 6s / 6 C...</td>\n",
              "      <td>Protective cover with anti-impact polycarbonat...</td>\n",
              "      <td>24.95</td>\n",
              "      <td>1</td>\n",
              "      <td>11865403</td>\n",
              "    </tr>\n",
              "    <tr>\n",
              "      <th>5216</th>\n",
              "      <td>APP1686</td>\n",
              "      <td>Apple Leather Case iPhone Case 7 Black Storm</td>\n",
              "      <td>ultrathin leather case and microfiber premium ...</td>\n",
              "      <td>55.00</td>\n",
              "      <td>0</td>\n",
              "      <td>11865403</td>\n",
              "    </tr>\n",
              "    <tr>\n",
              "      <th>5144</th>\n",
              "      <td>MUJ0023</td>\n",
              "      <td>Mujjo Leather Leather iPhone Case 8 Plus / 7 P...</td>\n",
              "      <td>ultrafine material cover with vegetable tanned...</td>\n",
              "      <td>44.90</td>\n",
              "      <td>0</td>\n",
              "      <td>11865403</td>\n",
              "    </tr>\n",
              "    <tr>\n",
              "      <th>6778</th>\n",
              "      <td>APP1998</td>\n",
              "      <td>Apple iPhone Silicone Case Case 7 Black Pebble</td>\n",
              "      <td>Ultrathin silicone case and microfiber premium...</td>\n",
              "      <td>39.00</td>\n",
              "      <td>0</td>\n",
              "      <td>11865403</td>\n",
              "    </tr>\n",
              "    <tr>\n",
              "      <th>8714</th>\n",
              "      <td>APP1673-A</td>\n",
              "      <td>Open - Apple iPhone Silicone Case Cover Red 8/7</td>\n",
              "      <td>Ultrathin silicone case and microfiber premium...</td>\n",
              "      <td>39.00</td>\n",
              "      <td>0</td>\n",
              "      <td>11865403</td>\n",
              "    </tr>\n",
              "    <tr>\n",
              "      <th>5227</th>\n",
              "      <td>APP1694</td>\n",
              "      <td>Apple iPhone Leather Case Cover 7 Brown Candy ...</td>\n",
              "      <td>ultrathin leather case and microfiber premium ...</td>\n",
              "      <td>59.00</td>\n",
              "      <td>0</td>\n",
              "      <td>11865403</td>\n",
              "    </tr>\n",
              "    <tr>\n",
              "      <th>1064</th>\n",
              "      <td>MOS0126</td>\n",
              "      <td>Moshi iGlaze Case for iPhone 6 / 6S Black</td>\n",
              "      <td>Rigid shell shock protection and rasguÌ ± os f...</td>\n",
              "      <td>30.00</td>\n",
              "      <td>0</td>\n",
              "      <td>11865403</td>\n",
              "    </tr>\n",
              "    <tr>\n",
              "      <th>5461</th>\n",
              "      <td>GRT0345</td>\n",
              "      <td>Griffin Reveal Case Black iPhone 6 Plus</td>\n",
              "      <td>resistant pouch with transparent backside for ...</td>\n",
              "      <td>19.99</td>\n",
              "      <td>0</td>\n",
              "      <td>11865403</td>\n",
              "    </tr>\n",
              "    <tr>\n",
              "      <th>9038</th>\n",
              "      <td>NOM0027</td>\n",
              "      <td>Nomad Leather Folio Case iPhone Brown leather X</td>\n",
              "      <td>Leather Case cover high quality microfiber int...</td>\n",
              "      <td>49.99</td>\n",
              "      <td>1</td>\n",
              "      <td>11865403</td>\n",
              "    </tr>\n",
              "  </tbody>\n",
              "</table>\n",
              "</div>\n",
              "      <button class=\"colab-df-convert\" onclick=\"convertToInteractive('df-cf9f6d60-c844-48c2-8572-988dfea5d0be')\"\n",
              "              title=\"Convert this dataframe to an interactive table.\"\n",
              "              style=\"display:none;\">\n",
              "        \n",
              "  <svg xmlns=\"http://www.w3.org/2000/svg\" height=\"24px\"viewBox=\"0 0 24 24\"\n",
              "       width=\"24px\">\n",
              "    <path d=\"M0 0h24v24H0V0z\" fill=\"none\"/>\n",
              "    <path d=\"M18.56 5.44l.94 2.06.94-2.06 2.06-.94-2.06-.94-.94-2.06-.94 2.06-2.06.94zm-11 1L8.5 8.5l.94-2.06 2.06-.94-2.06-.94L8.5 2.5l-.94 2.06-2.06.94zm10 10l.94 2.06.94-2.06 2.06-.94-2.06-.94-.94-2.06-.94 2.06-2.06.94z\"/><path d=\"M17.41 7.96l-1.37-1.37c-.4-.4-.92-.59-1.43-.59-.52 0-1.04.2-1.43.59L10.3 9.45l-7.72 7.72c-.78.78-.78 2.05 0 2.83L4 21.41c.39.39.9.59 1.41.59.51 0 1.02-.2 1.41-.59l7.78-7.78 2.81-2.81c.8-.78.8-2.07 0-2.86zM5.41 20L4 18.59l7.72-7.72 1.47 1.35L5.41 20z\"/>\n",
              "  </svg>\n",
              "      </button>\n",
              "      \n",
              "  <style>\n",
              "    .colab-df-container {\n",
              "      display:flex;\n",
              "      flex-wrap:wrap;\n",
              "      gap: 12px;\n",
              "    }\n",
              "\n",
              "    .colab-df-convert {\n",
              "      background-color: #E8F0FE;\n",
              "      border: none;\n",
              "      border-radius: 50%;\n",
              "      cursor: pointer;\n",
              "      display: none;\n",
              "      fill: #1967D2;\n",
              "      height: 32px;\n",
              "      padding: 0 0 0 0;\n",
              "      width: 32px;\n",
              "    }\n",
              "\n",
              "    .colab-df-convert:hover {\n",
              "      background-color: #E2EBFA;\n",
              "      box-shadow: 0px 1px 2px rgba(60, 64, 67, 0.3), 0px 1px 3px 1px rgba(60, 64, 67, 0.15);\n",
              "      fill: #174EA6;\n",
              "    }\n",
              "\n",
              "    [theme=dark] .colab-df-convert {\n",
              "      background-color: #3B4455;\n",
              "      fill: #D2E3FC;\n",
              "    }\n",
              "\n",
              "    [theme=dark] .colab-df-convert:hover {\n",
              "      background-color: #434B5C;\n",
              "      box-shadow: 0px 1px 3px 1px rgba(0, 0, 0, 0.15);\n",
              "      filter: drop-shadow(0px 1px 2px rgba(0, 0, 0, 0.3));\n",
              "      fill: #FFFFFF;\n",
              "    }\n",
              "  </style>\n",
              "\n",
              "      <script>\n",
              "        const buttonEl =\n",
              "          document.querySelector('#df-cf9f6d60-c844-48c2-8572-988dfea5d0be button.colab-df-convert');\n",
              "        buttonEl.style.display =\n",
              "          google.colab.kernel.accessAllowed ? 'block' : 'none';\n",
              "\n",
              "        async function convertToInteractive(key) {\n",
              "          const element = document.querySelector('#df-cf9f6d60-c844-48c2-8572-988dfea5d0be');\n",
              "          const dataTable =\n",
              "            await google.colab.kernel.invokeFunction('convertToInteractive',\n",
              "                                                     [key], {});\n",
              "          if (!dataTable) return;\n",
              "\n",
              "          const docLinkHtml = 'Like what you see? Visit the ' +\n",
              "            '<a target=\"_blank\" href=https://colab.research.google.com/notebooks/data_table.ipynb>data table notebook</a>'\n",
              "            + ' to learn more about interactive tables.';\n",
              "          element.innerHTML = '';\n",
              "          dataTable['output_type'] = 'display_data';\n",
              "          await google.colab.output.renderOutput(dataTable, element);\n",
              "          const docLink = document.createElement('div');\n",
              "          docLink.innerHTML = docLinkHtml;\n",
              "          element.appendChild(docLink);\n",
              "        }\n",
              "      </script>\n",
              "    </div>\n",
              "  </div>\n",
              "  "
            ]
          },
          "metadata": {},
          "execution_count": 71
        }
      ]
    },
    {
      "cell_type": "markdown",
      "source": [
        "Looks like this is a category of phone cases.\n",
        "\n",
        "Let's have a look at the 2nd largest type to see if that's also a clear category."
      ],
      "metadata": {
        "id": "8f4D6vx04EF-"
      }
    },
    {
      "cell_type": "code",
      "source": [
        "category_type_df.loc[category_type_df[\"type\"] == \"12175397\", :].sample(10)"
      ],
      "metadata": {
        "id": "iiP45DQQ4YHC",
        "colab": {
          "base_uri": "https://localhost:8080/",
          "height": 528
        },
        "outputId": "ef4b7f62-23ba-4b3b-d5e3-cec0b0a69ff0"
      },
      "execution_count": 139,
      "outputs": [
        {
          "output_type": "execute_result",
          "data": {
            "text/plain": [
              "          sku  \\\n",
              "3386  PAC1662   \n",
              "3380  PAC1341   \n",
              "6019  PAC1710   \n",
              "5922  PAC1741   \n",
              "5966  QNA0190   \n",
              "7073  PAC1965   \n",
              "8561  PAC2323   \n",
              "4406  PAC1416   \n",
              "8527  PAC2383   \n",
              "3144  PAC1215   \n",
              "\n",
              "                                                                         name  \\\n",
              "3386                             QNAP TS-453A | 4GB RAM | 32TB (4x8TB) WD Red   \n",
              "3380                            Pack QNAP TS-453A | 8GB RAM | WD 12TB Network   \n",
              "6019         Pack QNAP TS-451A 2GB NAS server 40TB (4x10TB) Seagate Iron Wolf   \n",
              "5922                              QNAP TS-131p | 3TB (1x3TB) Seagate IronWolf   \n",
              "5966         QNAP TVS-871U-RP NAS Server | Core i5 | 8GB RAM redundant source   \n",
              "7073                        Synology DS1817 + | 2GB RAM | 64TB (8x8TB) WD Red   \n",
              "8561  Synology DS718 + NAS Server | 2GB RAM | 24TB (2x12TB) Seagate Iron Wolf   \n",
              "4406                      Synology DS716 + II Pack | 8GB RAM | WD 8TB Network   \n",
              "8527    Synology DS418 NAS Server | 2GB RAM | 48TB (4x12TB) Seagate Iron Wolf   \n",
              "3144                                     QNAP Pack HS-251 + | WD 12TB Network   \n",
              "\n",
              "                                                                                                       desc  \\\n",
              "3386                 NAS TS-453A with 4GB of RAM Memory Hard + 32TB (4x8TB) Network WD Drive for Mac and PC   \n",
              "3380                       QNAP NAS with 12TB + 8GB RAM memory (4x3TB) Network WD Hard Drive for Mac and PC   \n",
              "6019                                  NAS with 2GB of RAM and 40TB (4x10TB) Seagate IronWolf for Mac and PC   \n",
              "5922                                                        Nas Seagate 3TB capable IronWolf for Mac and PC   \n",
              "5966                                                              NAS system format rack 8 bays and 8GB RAM   \n",
              "7073                                                     NAS server with 2GB of RAM and 64GB for Mac and PC   \n",
              "8561  Scalable NAS server with transcoding 4K: 4-core 2.3 GHz 2GB DDR3L 226MB / s read and 184 MB / s write   \n",
              "4406                         Synology DS716 + II with 8GB of RAM memory + 8TB (2x4TB) WD Red for Mac and PC   \n",
              "8527                           NAS server 4 bays and 2GB of RAM DDR4 capable of transmitting H.265 video 4K   \n",
              "3144                                       QNAP pack of 12TB (2x6TB) WD Hard Drives Network for Mac and PC.   \n",
              "\n",
              "        price  in_stock      type category  \n",
              "3386  1965.99         0  12175397   Server  \n",
              "3380  1216.59         0  12175397   Server  \n",
              "6019  2046.95         1  12175397   Server  \n",
              "5922   306.98         0  12175397   Server  \n",
              "5966  2418.79         0  12175397   Server  \n",
              "7073  3850.89         0  12175397   Server  \n",
              "8561  1459.97         0  12175397   Server  \n",
              "4406   889.89         0  12175397   Server  \n",
              "8527  2424.95         0  12175397   Server  \n",
              "3144   908.99         0  12175397   Server  "
            ],
            "text/html": [
              "\n",
              "  <div id=\"df-ee2df557-b5c8-4f88-81f4-eec78dc92b59\">\n",
              "    <div class=\"colab-df-container\">\n",
              "      <div>\n",
              "<style scoped>\n",
              "    .dataframe tbody tr th:only-of-type {\n",
              "        vertical-align: middle;\n",
              "    }\n",
              "\n",
              "    .dataframe tbody tr th {\n",
              "        vertical-align: top;\n",
              "    }\n",
              "\n",
              "    .dataframe thead th {\n",
              "        text-align: right;\n",
              "    }\n",
              "</style>\n",
              "<table border=\"1\" class=\"dataframe\">\n",
              "  <thead>\n",
              "    <tr style=\"text-align: right;\">\n",
              "      <th></th>\n",
              "      <th>sku</th>\n",
              "      <th>name</th>\n",
              "      <th>desc</th>\n",
              "      <th>price</th>\n",
              "      <th>in_stock</th>\n",
              "      <th>type</th>\n",
              "      <th>category</th>\n",
              "    </tr>\n",
              "  </thead>\n",
              "  <tbody>\n",
              "    <tr>\n",
              "      <th>3386</th>\n",
              "      <td>PAC1662</td>\n",
              "      <td>QNAP TS-453A | 4GB RAM | 32TB (4x8TB) WD Red</td>\n",
              "      <td>NAS TS-453A with 4GB of RAM Memory Hard + 32TB (4x8TB) Network WD Drive for Mac and PC</td>\n",
              "      <td>1965.99</td>\n",
              "      <td>0</td>\n",
              "      <td>12175397</td>\n",
              "      <td>Server</td>\n",
              "    </tr>\n",
              "    <tr>\n",
              "      <th>3380</th>\n",
              "      <td>PAC1341</td>\n",
              "      <td>Pack QNAP TS-453A | 8GB RAM | WD 12TB Network</td>\n",
              "      <td>QNAP NAS with 12TB + 8GB RAM memory (4x3TB) Network WD Hard Drive for Mac and PC</td>\n",
              "      <td>1216.59</td>\n",
              "      <td>0</td>\n",
              "      <td>12175397</td>\n",
              "      <td>Server</td>\n",
              "    </tr>\n",
              "    <tr>\n",
              "      <th>6019</th>\n",
              "      <td>PAC1710</td>\n",
              "      <td>Pack QNAP TS-451A 2GB NAS server 40TB (4x10TB) Seagate Iron Wolf</td>\n",
              "      <td>NAS with 2GB of RAM and 40TB (4x10TB) Seagate IronWolf for Mac and PC</td>\n",
              "      <td>2046.95</td>\n",
              "      <td>1</td>\n",
              "      <td>12175397</td>\n",
              "      <td>Server</td>\n",
              "    </tr>\n",
              "    <tr>\n",
              "      <th>5922</th>\n",
              "      <td>PAC1741</td>\n",
              "      <td>QNAP TS-131p | 3TB (1x3TB) Seagate IronWolf</td>\n",
              "      <td>Nas Seagate 3TB capable IronWolf for Mac and PC</td>\n",
              "      <td>306.98</td>\n",
              "      <td>0</td>\n",
              "      <td>12175397</td>\n",
              "      <td>Server</td>\n",
              "    </tr>\n",
              "    <tr>\n",
              "      <th>5966</th>\n",
              "      <td>QNA0190</td>\n",
              "      <td>QNAP TVS-871U-RP NAS Server | Core i5 | 8GB RAM redundant source</td>\n",
              "      <td>NAS system format rack 8 bays and 8GB RAM</td>\n",
              "      <td>2418.79</td>\n",
              "      <td>0</td>\n",
              "      <td>12175397</td>\n",
              "      <td>Server</td>\n",
              "    </tr>\n",
              "    <tr>\n",
              "      <th>7073</th>\n",
              "      <td>PAC1965</td>\n",
              "      <td>Synology DS1817 + | 2GB RAM | 64TB (8x8TB) WD Red</td>\n",
              "      <td>NAS server with 2GB of RAM and 64GB for Mac and PC</td>\n",
              "      <td>3850.89</td>\n",
              "      <td>0</td>\n",
              "      <td>12175397</td>\n",
              "      <td>Server</td>\n",
              "    </tr>\n",
              "    <tr>\n",
              "      <th>8561</th>\n",
              "      <td>PAC2323</td>\n",
              "      <td>Synology DS718 + NAS Server | 2GB RAM | 24TB (2x12TB) Seagate Iron Wolf</td>\n",
              "      <td>Scalable NAS server with transcoding 4K: 4-core 2.3 GHz 2GB DDR3L 226MB / s read and 184 MB / s write</td>\n",
              "      <td>1459.97</td>\n",
              "      <td>0</td>\n",
              "      <td>12175397</td>\n",
              "      <td>Server</td>\n",
              "    </tr>\n",
              "    <tr>\n",
              "      <th>4406</th>\n",
              "      <td>PAC1416</td>\n",
              "      <td>Synology DS716 + II Pack | 8GB RAM | WD 8TB Network</td>\n",
              "      <td>Synology DS716 + II with 8GB of RAM memory + 8TB (2x4TB) WD Red for Mac and PC</td>\n",
              "      <td>889.89</td>\n",
              "      <td>0</td>\n",
              "      <td>12175397</td>\n",
              "      <td>Server</td>\n",
              "    </tr>\n",
              "    <tr>\n",
              "      <th>8527</th>\n",
              "      <td>PAC2383</td>\n",
              "      <td>Synology DS418 NAS Server | 2GB RAM | 48TB (4x12TB) Seagate Iron Wolf</td>\n",
              "      <td>NAS server 4 bays and 2GB of RAM DDR4 capable of transmitting H.265 video 4K</td>\n",
              "      <td>2424.95</td>\n",
              "      <td>0</td>\n",
              "      <td>12175397</td>\n",
              "      <td>Server</td>\n",
              "    </tr>\n",
              "    <tr>\n",
              "      <th>3144</th>\n",
              "      <td>PAC1215</td>\n",
              "      <td>QNAP Pack HS-251 + | WD 12TB Network</td>\n",
              "      <td>QNAP pack of 12TB (2x6TB) WD Hard Drives Network for Mac and PC.</td>\n",
              "      <td>908.99</td>\n",
              "      <td>0</td>\n",
              "      <td>12175397</td>\n",
              "      <td>Server</td>\n",
              "    </tr>\n",
              "  </tbody>\n",
              "</table>\n",
              "</div>\n",
              "      <button class=\"colab-df-convert\" onclick=\"convertToInteractive('df-ee2df557-b5c8-4f88-81f4-eec78dc92b59')\"\n",
              "              title=\"Convert this dataframe to an interactive table.\"\n",
              "              style=\"display:none;\">\n",
              "        \n",
              "  <svg xmlns=\"http://www.w3.org/2000/svg\" height=\"24px\"viewBox=\"0 0 24 24\"\n",
              "       width=\"24px\">\n",
              "    <path d=\"M0 0h24v24H0V0z\" fill=\"none\"/>\n",
              "    <path d=\"M18.56 5.44l.94 2.06.94-2.06 2.06-.94-2.06-.94-.94-2.06-.94 2.06-2.06.94zm-11 1L8.5 8.5l.94-2.06 2.06-.94-2.06-.94L8.5 2.5l-.94 2.06-2.06.94zm10 10l.94 2.06.94-2.06 2.06-.94-2.06-.94-.94-2.06-.94 2.06-2.06.94z\"/><path d=\"M17.41 7.96l-1.37-1.37c-.4-.4-.92-.59-1.43-.59-.52 0-1.04.2-1.43.59L10.3 9.45l-7.72 7.72c-.78.78-.78 2.05 0 2.83L4 21.41c.39.39.9.59 1.41.59.51 0 1.02-.2 1.41-.59l7.78-7.78 2.81-2.81c.8-.78.8-2.07 0-2.86zM5.41 20L4 18.59l7.72-7.72 1.47 1.35L5.41 20z\"/>\n",
              "  </svg>\n",
              "      </button>\n",
              "      \n",
              "  <style>\n",
              "    .colab-df-container {\n",
              "      display:flex;\n",
              "      flex-wrap:wrap;\n",
              "      gap: 12px;\n",
              "    }\n",
              "\n",
              "    .colab-df-convert {\n",
              "      background-color: #E8F0FE;\n",
              "      border: none;\n",
              "      border-radius: 50%;\n",
              "      cursor: pointer;\n",
              "      display: none;\n",
              "      fill: #1967D2;\n",
              "      height: 32px;\n",
              "      padding: 0 0 0 0;\n",
              "      width: 32px;\n",
              "    }\n",
              "\n",
              "    .colab-df-convert:hover {\n",
              "      background-color: #E2EBFA;\n",
              "      box-shadow: 0px 1px 2px rgba(60, 64, 67, 0.3), 0px 1px 3px 1px rgba(60, 64, 67, 0.15);\n",
              "      fill: #174EA6;\n",
              "    }\n",
              "\n",
              "    [theme=dark] .colab-df-convert {\n",
              "      background-color: #3B4455;\n",
              "      fill: #D2E3FC;\n",
              "    }\n",
              "\n",
              "    [theme=dark] .colab-df-convert:hover {\n",
              "      background-color: #434B5C;\n",
              "      box-shadow: 0px 1px 3px 1px rgba(0, 0, 0, 0.15);\n",
              "      filter: drop-shadow(0px 1px 2px rgba(0, 0, 0, 0.3));\n",
              "      fill: #FFFFFF;\n",
              "    }\n",
              "  </style>\n",
              "\n",
              "      <script>\n",
              "        const buttonEl =\n",
              "          document.querySelector('#df-ee2df557-b5c8-4f88-81f4-eec78dc92b59 button.colab-df-convert');\n",
              "        buttonEl.style.display =\n",
              "          google.colab.kernel.accessAllowed ? 'block' : 'none';\n",
              "\n",
              "        async function convertToInteractive(key) {\n",
              "          const element = document.querySelector('#df-ee2df557-b5c8-4f88-81f4-eec78dc92b59');\n",
              "          const dataTable =\n",
              "            await google.colab.kernel.invokeFunction('convertToInteractive',\n",
              "                                                     [key], {});\n",
              "          if (!dataTable) return;\n",
              "\n",
              "          const docLinkHtml = 'Like what you see? Visit the ' +\n",
              "            '<a target=\"_blank\" href=https://colab.research.google.com/notebooks/data_table.ipynb>data table notebook</a>'\n",
              "            + ' to learn more about interactive tables.';\n",
              "          element.innerHTML = '';\n",
              "          dataTable['output_type'] = 'display_data';\n",
              "          await google.colab.output.renderOutput(dataTable, element);\n",
              "          const docLink = document.createElement('div');\n",
              "          docLink.innerHTML = docLinkHtml;\n",
              "          element.appendChild(docLink);\n",
              "        }\n",
              "      </script>\n",
              "    </div>\n",
              "  </div>\n",
              "  "
            ]
          },
          "metadata": {},
          "execution_count": 139
        }
      ]
    },
    {
      "cell_type": "code",
      "source": [],
      "metadata": {
        "id": "xUkp05bzbhLF"
      },
      "execution_count": null,
      "outputs": []
    },
    {
      "cell_type": "markdown",
      "source": [
        "Looks like this category is full of servers.\n",
        "\n",
        "I wonder how many `type`'s account for most of our products?"
      ],
      "metadata": {
        "id": "rQq4i68T4i4Z"
      }
    },
    {
      "cell_type": "code",
      "source": [
        "n = 30\n",
        "print(f\"With the {n} largest type's, we account for {((category_type_df.groupby('type').count().nlargest(n, 'sku')['sku'].sum()) / (category_type_df.shape[0]) * 100).round(2)}% of all products.\")"
      ],
      "metadata": {
        "id": "nvC72XNi5VUz",
        "colab": {
          "base_uri": "https://localhost:8080/"
        },
        "outputId": "c8b9e67a-57df-40fd-d941-5fb3fc1756b9"
      },
      "execution_count": 25,
      "outputs": [
        {
          "output_type": "stream",
          "name": "stdout",
          "text": [
            "With the 30 largest type's, we account for 78.4% of all products.\n"
          ]
        }
      ]
    },
    {
      "cell_type": "code",
      "source": [
        "pd.set_option('display.max_rows', 1000)\n",
        "pd.set_option(\"display.max_colwidth\", 200)"
      ],
      "metadata": {
        "id": "7O_0pPYqmXhr"
      },
      "execution_count": 8,
      "outputs": []
    },
    {
      "cell_type": "markdown",
      "source": [
        "Looks like we can simply investigate 30 types and set the categories, then the remaining 20% of products can have the category `other`.\n",
        "\n",
        "Use the skills you learnt above to change the category for each type."
      ],
      "metadata": {
        "id": "40a0ksM46UCi"
      }
    },
    {
      "cell_type": "code",
      "source": [
        "#category_type_df.loc[category_type_df['type'].isin(['24885185','24895185','24215399']), \"category\"] = \"apple watch & accessories\"\n",
        "category_type_df.category.value_counts()\n"
      ],
      "metadata": {
        "id": "oVfMxn3y62sE",
        "colab": {
          "base_uri": "https://localhost:8080/"
        },
        "outputId": "eca2a87a-0ee5-4cdc-c892-b6bd3cd69361"
      },
      "execution_count": 262,
      "outputs": [
        {
          "output_type": "execute_result",
          "data": {
            "text/plain": [
              "Apple Accessories                     3171\n",
              "Gadget case                           1752\n",
              "External/storage Device               1012\n",
              "Servers                                939\n",
              "iMac, ipod, ipad,  iphones, iwatch     868\n",
              "New/Refurbished Macbook                731\n",
              "Installation/Expansion/Upgrade kit     504\n",
              "Monitor                                187\n",
              "others                                 183\n",
              "replacement parts & tools              139\n",
              "Repair Service                         138\n",
              "tablet & keyboard & accessories        117\n",
              "Router                                 115\n",
              "Back pack                               65\n",
              "Surveillance camera                     50\n",
              "miscellaneous gadgets                   21\n",
              "Name: category, dtype: int64"
            ]
          },
          "metadata": {},
          "execution_count": 262
        }
      ]
    },
    {
      "cell_type": "code",
      "source": [
        "category_type_df.loc[category_type_df[\"type\"] == \"24215399\", :].sample(10)"
      ],
      "metadata": {
        "colab": {
          "base_uri": "https://localhost:8080/",
          "height": 581
        },
        "id": "3UtS5JudSKyG",
        "outputId": "755e02db-1bd0-4718-8f18-2c6fbb93736c"
      },
      "execution_count": 233,
      "outputs": [
        {
          "output_type": "execute_result",
          "data": {
            "text/plain": [
              "          sku  \\\n",
              "2899  MOP0071   \n",
              "4197  GRT0400   \n",
              "6428  ELA0018   \n",
              "3826  SNA0065   \n",
              "3926  ELE0007   \n",
              "3695  NOM0016   \n",
              "3334  NAT0030   \n",
              "4691  ZAG0026   \n",
              "7182  ELA0043   \n",
              "3458  NOM0014   \n",
              "\n",
              "                                                                 name  \\\n",
              "2899                          Mophie Charging Dock Apple Watch Silver   \n",
              "4197          WatchStand Griffin Dock Charging Dock Apple Watch White   \n",
              "6428                 Elago W3 Support Stand Vintage Apple Watch White   \n",
              "3826                        Sena Leather Case Stand Apple Watch Black   \n",
              "3926               Elevation Lab Support Apple Watch Black Nightstand   \n",
              "3695          Nomad Pod Battery Charging Dock Apple Watch Gray Silver   \n",
              "3334              Native Union Anchor Base Load Apple Watch Dark Gray   \n",
              "4691  Zagg Mobile Charging Station charging base and battery 5000 mAh   \n",
              "7182        elago W4 Support Stand 1998 Vintage Aqua Blue Apple Watch   \n",
              "3458                 Charging Dock Stand Nomad Apple Watch Gray Space   \n",
              "\n",
              "                                                                              desc  \\\n",
              "2899                                               Charging Stand for Apple Watch.   \n",
              "4197                                                 Charging Dock for Apple Watch   \n",
              "6428                  Charging stand with Macintosh Vintage design for Apple Watch   \n",
              "3826              charging base and leather carrying case for Apple Watch support.   \n",
              "3926                                             Load bearing silicone Apple Watch   \n",
              "3695          portable charging station and aluminum Apple Watch battery included.   \n",
              "3334                                                Charging Dock for Apple Watch.   \n",
              "4691  Portable External Battery 5000mAh double USB port for Apple Watch and iPhone   \n",
              "7182                    Vintage design support slot Charging Cable for Apple Watch   \n",
              "3458                                            Load bearing aluminum Apple Watch.   \n",
              "\n",
              "      price  in_stock      type           category  \n",
              "2899  69.95         0  24215399  Apple Accessories  \n",
              "4197  29.95         0  24215399  Apple Accessories  \n",
              "6428  24.95         1  24215399  Apple Accessories  \n",
              "3826  79.95         1  24215399  Apple Accessories  \n",
              "3926  34.95         0  24215399  Apple Accessories  \n",
              "3695  59.95         0  24215399  Apple Accessories  \n",
              "3334  29.99         0  24215399  Apple Accessories  \n",
              "4691  79.99         0  24215399  Apple Accessories  \n",
              "7182  24.96         1  24215399  Apple Accessories  \n",
              "3458  69.95         0  24215399  Apple Accessories  "
            ],
            "text/html": [
              "\n",
              "  <div id=\"df-88e0d8c0-3893-4b8e-b580-e4d85a3f2663\">\n",
              "    <div class=\"colab-df-container\">\n",
              "      <div>\n",
              "<style scoped>\n",
              "    .dataframe tbody tr th:only-of-type {\n",
              "        vertical-align: middle;\n",
              "    }\n",
              "\n",
              "    .dataframe tbody tr th {\n",
              "        vertical-align: top;\n",
              "    }\n",
              "\n",
              "    .dataframe thead th {\n",
              "        text-align: right;\n",
              "    }\n",
              "</style>\n",
              "<table border=\"1\" class=\"dataframe\">\n",
              "  <thead>\n",
              "    <tr style=\"text-align: right;\">\n",
              "      <th></th>\n",
              "      <th>sku</th>\n",
              "      <th>name</th>\n",
              "      <th>desc</th>\n",
              "      <th>price</th>\n",
              "      <th>in_stock</th>\n",
              "      <th>type</th>\n",
              "      <th>category</th>\n",
              "    </tr>\n",
              "  </thead>\n",
              "  <tbody>\n",
              "    <tr>\n",
              "      <th>2899</th>\n",
              "      <td>MOP0071</td>\n",
              "      <td>Mophie Charging Dock Apple Watch Silver</td>\n",
              "      <td>Charging Stand for Apple Watch.</td>\n",
              "      <td>69.95</td>\n",
              "      <td>0</td>\n",
              "      <td>24215399</td>\n",
              "      <td>Apple Accessories</td>\n",
              "    </tr>\n",
              "    <tr>\n",
              "      <th>4197</th>\n",
              "      <td>GRT0400</td>\n",
              "      <td>WatchStand Griffin Dock Charging Dock Apple Watch White</td>\n",
              "      <td>Charging Dock for Apple Watch</td>\n",
              "      <td>29.95</td>\n",
              "      <td>0</td>\n",
              "      <td>24215399</td>\n",
              "      <td>Apple Accessories</td>\n",
              "    </tr>\n",
              "    <tr>\n",
              "      <th>6428</th>\n",
              "      <td>ELA0018</td>\n",
              "      <td>Elago W3 Support Stand Vintage Apple Watch White</td>\n",
              "      <td>Charging stand with Macintosh Vintage design for Apple Watch</td>\n",
              "      <td>24.95</td>\n",
              "      <td>1</td>\n",
              "      <td>24215399</td>\n",
              "      <td>Apple Accessories</td>\n",
              "    </tr>\n",
              "    <tr>\n",
              "      <th>3826</th>\n",
              "      <td>SNA0065</td>\n",
              "      <td>Sena Leather Case Stand Apple Watch Black</td>\n",
              "      <td>charging base and leather carrying case for Apple Watch support.</td>\n",
              "      <td>79.95</td>\n",
              "      <td>1</td>\n",
              "      <td>24215399</td>\n",
              "      <td>Apple Accessories</td>\n",
              "    </tr>\n",
              "    <tr>\n",
              "      <th>3926</th>\n",
              "      <td>ELE0007</td>\n",
              "      <td>Elevation Lab Support Apple Watch Black Nightstand</td>\n",
              "      <td>Load bearing silicone Apple Watch</td>\n",
              "      <td>34.95</td>\n",
              "      <td>0</td>\n",
              "      <td>24215399</td>\n",
              "      <td>Apple Accessories</td>\n",
              "    </tr>\n",
              "    <tr>\n",
              "      <th>3695</th>\n",
              "      <td>NOM0016</td>\n",
              "      <td>Nomad Pod Battery Charging Dock Apple Watch Gray Silver</td>\n",
              "      <td>portable charging station and aluminum Apple Watch battery included.</td>\n",
              "      <td>59.95</td>\n",
              "      <td>0</td>\n",
              "      <td>24215399</td>\n",
              "      <td>Apple Accessories</td>\n",
              "    </tr>\n",
              "    <tr>\n",
              "      <th>3334</th>\n",
              "      <td>NAT0030</td>\n",
              "      <td>Native Union Anchor Base Load Apple Watch Dark Gray</td>\n",
              "      <td>Charging Dock for Apple Watch.</td>\n",
              "      <td>29.99</td>\n",
              "      <td>0</td>\n",
              "      <td>24215399</td>\n",
              "      <td>Apple Accessories</td>\n",
              "    </tr>\n",
              "    <tr>\n",
              "      <th>4691</th>\n",
              "      <td>ZAG0026</td>\n",
              "      <td>Zagg Mobile Charging Station charging base and battery 5000 mAh</td>\n",
              "      <td>Portable External Battery 5000mAh double USB port for Apple Watch and iPhone</td>\n",
              "      <td>79.99</td>\n",
              "      <td>0</td>\n",
              "      <td>24215399</td>\n",
              "      <td>Apple Accessories</td>\n",
              "    </tr>\n",
              "    <tr>\n",
              "      <th>7182</th>\n",
              "      <td>ELA0043</td>\n",
              "      <td>elago W4 Support Stand 1998 Vintage Aqua Blue Apple Watch</td>\n",
              "      <td>Vintage design support slot Charging Cable for Apple Watch</td>\n",
              "      <td>24.96</td>\n",
              "      <td>1</td>\n",
              "      <td>24215399</td>\n",
              "      <td>Apple Accessories</td>\n",
              "    </tr>\n",
              "    <tr>\n",
              "      <th>3458</th>\n",
              "      <td>NOM0014</td>\n",
              "      <td>Charging Dock Stand Nomad Apple Watch Gray Space</td>\n",
              "      <td>Load bearing aluminum Apple Watch.</td>\n",
              "      <td>69.95</td>\n",
              "      <td>0</td>\n",
              "      <td>24215399</td>\n",
              "      <td>Apple Accessories</td>\n",
              "    </tr>\n",
              "  </tbody>\n",
              "</table>\n",
              "</div>\n",
              "      <button class=\"colab-df-convert\" onclick=\"convertToInteractive('df-88e0d8c0-3893-4b8e-b580-e4d85a3f2663')\"\n",
              "              title=\"Convert this dataframe to an interactive table.\"\n",
              "              style=\"display:none;\">\n",
              "        \n",
              "  <svg xmlns=\"http://www.w3.org/2000/svg\" height=\"24px\"viewBox=\"0 0 24 24\"\n",
              "       width=\"24px\">\n",
              "    <path d=\"M0 0h24v24H0V0z\" fill=\"none\"/>\n",
              "    <path d=\"M18.56 5.44l.94 2.06.94-2.06 2.06-.94-2.06-.94-.94-2.06-.94 2.06-2.06.94zm-11 1L8.5 8.5l.94-2.06 2.06-.94-2.06-.94L8.5 2.5l-.94 2.06-2.06.94zm10 10l.94 2.06.94-2.06 2.06-.94-2.06-.94-.94-2.06-.94 2.06-2.06.94z\"/><path d=\"M17.41 7.96l-1.37-1.37c-.4-.4-.92-.59-1.43-.59-.52 0-1.04.2-1.43.59L10.3 9.45l-7.72 7.72c-.78.78-.78 2.05 0 2.83L4 21.41c.39.39.9.59 1.41.59.51 0 1.02-.2 1.41-.59l7.78-7.78 2.81-2.81c.8-.78.8-2.07 0-2.86zM5.41 20L4 18.59l7.72-7.72 1.47 1.35L5.41 20z\"/>\n",
              "  </svg>\n",
              "      </button>\n",
              "      \n",
              "  <style>\n",
              "    .colab-df-container {\n",
              "      display:flex;\n",
              "      flex-wrap:wrap;\n",
              "      gap: 12px;\n",
              "    }\n",
              "\n",
              "    .colab-df-convert {\n",
              "      background-color: #E8F0FE;\n",
              "      border: none;\n",
              "      border-radius: 50%;\n",
              "      cursor: pointer;\n",
              "      display: none;\n",
              "      fill: #1967D2;\n",
              "      height: 32px;\n",
              "      padding: 0 0 0 0;\n",
              "      width: 32px;\n",
              "    }\n",
              "\n",
              "    .colab-df-convert:hover {\n",
              "      background-color: #E2EBFA;\n",
              "      box-shadow: 0px 1px 2px rgba(60, 64, 67, 0.3), 0px 1px 3px 1px rgba(60, 64, 67, 0.15);\n",
              "      fill: #174EA6;\n",
              "    }\n",
              "\n",
              "    [theme=dark] .colab-df-convert {\n",
              "      background-color: #3B4455;\n",
              "      fill: #D2E3FC;\n",
              "    }\n",
              "\n",
              "    [theme=dark] .colab-df-convert:hover {\n",
              "      background-color: #434B5C;\n",
              "      box-shadow: 0px 1px 3px 1px rgba(0, 0, 0, 0.15);\n",
              "      filter: drop-shadow(0px 1px 2px rgba(0, 0, 0, 0.3));\n",
              "      fill: #FFFFFF;\n",
              "    }\n",
              "  </style>\n",
              "\n",
              "      <script>\n",
              "        const buttonEl =\n",
              "          document.querySelector('#df-88e0d8c0-3893-4b8e-b580-e4d85a3f2663 button.colab-df-convert');\n",
              "        buttonEl.style.display =\n",
              "          google.colab.kernel.accessAllowed ? 'block' : 'none';\n",
              "\n",
              "        async function convertToInteractive(key) {\n",
              "          const element = document.querySelector('#df-88e0d8c0-3893-4b8e-b580-e4d85a3f2663');\n",
              "          const dataTable =\n",
              "            await google.colab.kernel.invokeFunction('convertToInteractive',\n",
              "                                                     [key], {});\n",
              "          if (!dataTable) return;\n",
              "\n",
              "          const docLinkHtml = 'Like what you see? Visit the ' +\n",
              "            '<a target=\"_blank\" href=https://colab.research.google.com/notebooks/data_table.ipynb>data table notebook</a>'\n",
              "            + ' to learn more about interactive tables.';\n",
              "          element.innerHTML = '';\n",
              "          dataTable['output_type'] = 'display_data';\n",
              "          await google.colab.output.renderOutput(dataTable, element);\n",
              "          const docLink = document.createElement('div');\n",
              "          docLink.innerHTML = docLinkHtml;\n",
              "          element.appendChild(docLink);\n",
              "        }\n",
              "      </script>\n",
              "    </div>\n",
              "  </div>\n",
              "  "
            ]
          },
          "metadata": {},
          "execution_count": 233
        }
      ]
    },
    {
      "cell_type": "code",
      "source": [
        "\n",
        "##category_type_df.loc[category_type_df[\"type\"] == \"1405\",'category':] = 'tablet & accessories'"
      ],
      "metadata": {
        "id": "MBAZg5V38KBN"
      },
      "execution_count": 218,
      "outputs": []
    },
    {
      "cell_type": "code",
      "source": [],
      "metadata": {
        "id": "V9IBWHg38Ki6"
      },
      "execution_count": null,
      "outputs": []
    },
    {
      "cell_type": "code",
      "source": [
        "category_type_df['category'].isna().sum()"
      ],
      "metadata": {
        "colab": {
          "base_uri": "https://localhost:8080/"
        },
        "id": "v79IBnWFa1Rz",
        "outputId": "e018dce1-45af-479b-f103-f57f7dd3cf39"
      },
      "execution_count": 260,
      "outputs": [
        {
          "output_type": "execute_result",
          "data": {
            "text/plain": [
              "0"
            ]
          },
          "metadata": {},
          "execution_count": 260
        }
      ]
    },
    {
      "cell_type": "code",
      "source": [
        "category_type_df.category = category_type_df.category.fillna('Others')"
      ],
      "metadata": {
        "id": "dq36ePd1bGf9"
      },
      "execution_count": 261,
      "outputs": []
    },
    {
      "cell_type": "code",
      "source": [
        "category_type_df.loc[category_type_df['type'].isin(['11935397','57445397','12655397','1364']), \"category\"] = \"External/storage Device\""
      ],
      "metadata": {
        "id": "e4Xw2i_oBro8"
      },
      "execution_count": 10,
      "outputs": []
    },
    {
      "cell_type": "code",
      "source": [
        "category_type_df.loc[category_type_df['type'].isin([\"12585395\",'1298', '1229','1216','24215399','5720','8696','42945397',\n",
        "                                                    '13555403','11905404','1515','12575403','13005399','12085400',\n",
        "                                                    '1276','5399','21535407','1231','13615399','5405','2449','5395',\n",
        "                                                    '12355400','1416','10142','14365395','14035403','1387',\n",
        "                                                    '10230',\"5398\", '5384','24885185','24215399','1230','1325','2434']), \"category\"] = \"Apple Accessories\""
      ],
      "metadata": {
        "id": "suvc1nSNA1F5"
      },
      "execution_count": 254,
      "outputs": []
    },
    {
      "cell_type": "code",
      "source": [
        "\n",
        "category_type_df.loc[category_type_df['type'].isin(['11865403','12635403','13835403',\"5,49E+11\",'5403']), \"category\"] = \"Gadget case\""
      ],
      "metadata": {
        "id": "F3z418eNBHjg"
      },
      "execution_count": 12,
      "outputs": []
    },
    {
      "cell_type": "code",
      "source": [
        "category_type_df.loc[category_type_df['type'].isin([\"1,02E+12\",'2158',\"5,39E+11\",'1282','9,29E+11','2,17E+11','21632158']), \"category\"] = \"New/Refurbished Macbook\""
      ],
      "metadata": {
        "id": "7hsLHyvJCNoj"
      },
      "execution_count": 189,
      "outputs": []
    },
    {
      "cell_type": "code",
      "source": [
        "category_type_df.loc[category_type_df[\"type\"].isin ([\"1433\",'12215397','14305406','12995397','12755395']),'category']=  'Installation/Expansion/Upgrade kit'"
      ],
      "metadata": {
        "id": "_fVQdyxwCpuv"
      },
      "execution_count": 146,
      "outputs": []
    },
    {
      "cell_type": "code",
      "source": [
        "category_type_df.loc[category_type_df[\"type\"].isin([\"5,74E+15\",\"2,16E+11\",'118692158','5,43E+15','51882158',\"11821715\",'13621714',\n",
        "                                                    '51871714','12141714','106431714','1714',\n",
        "                                                    '51861714',\"51601716\",'85651716','24811716',\n",
        "                       '113281716','113291716','85641716','1716','24821716','24895185']),'category'] = 'iMac,' ' ipod,' ' ipad' ',  iphones' ', iwatch'"
      ],
      "metadata": {
        "id": "eHa8FCB3TQtG"
      },
      "execution_count": 249,
      "outputs": []
    },
    {
      "cell_type": "code",
      "source": [
        "category_type_df.loc[category_type_df[\"type\"] == \"1296\",'category':] = 'Monitors'"
      ],
      "metadata": {
        "id": "0tY--1QOUmEr"
      },
      "execution_count": 16,
      "outputs": []
    },
    {
      "cell_type": "code",
      "source": [
        "#category_type_df.loc[category_type_df[\"type\"] == \"12645406\" , \"category\" :] = 'Replacement tools'"
      ],
      "metadata": {
        "id": "-XbYdvXoWqzs"
      },
      "execution_count": 224,
      "outputs": []
    },
    {
      "cell_type": "code",
      "source": [
        "#category_type_df.loc[category_type_df[\"type\"].isin([\"51601716\",'85651716','24811716','113281716','113291716','85641716','1716','24821716']) , \"category\" ] = 'iphones'\n",
        "#category_type_df"
      ],
      "metadata": {
        "id": "nTkjfg0iYTQL"
      },
      "execution_count": 197,
      "outputs": []
    },
    {
      "cell_type": "code",
      "source": [
        "category_type_df.loc[category_type_df[\"type\"] == \"9094\" ,\"category\" :] = 'Surveillance cameras'"
      ],
      "metadata": {
        "id": "hCzw4Vikhbp4"
      },
      "execution_count": 19,
      "outputs": []
    },
    {
      "cell_type": "code",
      "source": [
        "category_type_df.loc[category_type_df[\"type\"] == \"1392\", \"category\" :] = 'Back packs'\n"
      ],
      "metadata": {
        "id": "OuHE7AmtjTmx"
      },
      "execution_count": 299,
      "outputs": []
    },
    {
      "cell_type": "code",
      "source": [
        "##category_type_df.loc[category_type_df[\"type\"].isin(['1230','1325']), 'category']= 'Cable'"
      ],
      "metadata": {
        "id": "kGDzEB36ltum"
      },
      "execution_count": 225,
      "outputs": []
    },
    {
      "cell_type": "code",
      "source": [
        "category_type_df.loc[category_type_df[\"type\"].isin([\"1,44E+11\", '20642062']), \"category\" :] = 'Repair Services'"
      ],
      "metadata": {
        "id": "U35owfxen3Fb"
      },
      "execution_count": 300,
      "outputs": []
    },
    {
      "cell_type": "code",
      "source": [
        "##category_type_df.loc[category_type_df[\"type\"].isin([\"5398\", '5384']), \"category\" :] = 'listening device for apple products'"
      ],
      "metadata": {
        "id": "eRIMQeIYoINo"
      },
      "execution_count": 24,
      "outputs": []
    },
    {
      "cell_type": "code",
      "source": [
        "category_type_df.loc[category_type_df[\"type\"] == \"12175397\", \"category\" :] = 'Servers'\n",
        "12575403"
      ],
      "metadata": {
        "colab": {
          "base_uri": "https://localhost:8080/"
        },
        "id": "jb7YjHsDrMW4",
        "outputId": "d1c60482-4a07-4c5f-f8f3-269be8a37f12"
      },
      "execution_count": 228,
      "outputs": [
        {
          "output_type": "execute_result",
          "data": {
            "text/plain": [
              "12575403"
            ]
          },
          "metadata": {},
          "execution_count": 228
        }
      ]
    },
    {
      "cell_type": "code",
      "source": [
        "#category_type_df.loc[category_type_df.desc.str.lower().str.contains(\"keyboard\"), :]"
      ],
      "metadata": {
        "id": "JUeIykiFrmMR"
      },
      "execution_count": 81,
      "outputs": []
    },
    {
      "cell_type": "code",
      "source": [
        "category_type_df.loc[category_type_df[\"type\"].isin([\"13855401\", '54025401','5401','1405']), \"category\":] = 'tablet & keyboard & accessories'\n",
        "#category_type_df.loc[category_type_df[\"type\"].isin(['1230','1325']), 'category']= 'cables'"
      ],
      "metadata": {
        "id": "lVOM6vQ1oxi7"
      },
      "execution_count": 244,
      "outputs": []
    },
    {
      "cell_type": "code",
      "source": [
        "12085400\n",
        "category_type_df.loc[category_type_df[\"type\"] == \"12085400\",:]"
      ],
      "metadata": {
        "colab": {
          "base_uri": "https://localhost:8080/",
          "height": 238
        },
        "id": "JFyWSnFiad8q",
        "outputId": "077dcac9-8d13-4c4e-b67b-160ae114e77f"
      },
      "execution_count": 80,
      "outputs": [
        {
          "output_type": "execute_result",
          "data": {
            "text/plain": [
              "          sku                                                  name  \\\n",
              "97    MAK0015               Stick Maclocks silver metal safely iPad   \n",
              "1224  WHO0008                   Whoosh DUO + ​​Cleanser 100ml + 8ml   \n",
              "2069  AST0007                      Cleaning Spray pencil-astuce 6ml   \n",
              "2070  AST0008                   Astuce Spray 20ml cleaner form card   \n",
              "2072  KEN0210  PresentAir Kensington Presenter Pro Bluetooth 4.0 LE   \n",
              "9751  MTF0008                  Mistify Clean Screens Natural 500ml.   \n",
              "\n",
              "                                                 desc  price  in_stock  \\\n",
              "97                    Security lock plate steel iPad.  49.99         0   \n",
              "1224                  Sprays cleaners Pack 2 screens.  19.99         0   \n",
              "2069  Display Cleaner iPhone iPad iPod and Mac spray.   9.99         0   \n",
              "2070  Display Cleaner iPhone iPad iPod and Mac spray.  12.99         0   \n",
              "2072                         Bluetooth laser pointer.  59.99         0   \n",
              "9751            Spray cleaning screens and keyboards.  14.99         1   \n",
              "\n",
              "          type           category  \n",
              "97    12085400  Apple Accessories  \n",
              "1224  12085400  Apple Accessories  \n",
              "2069  12085400  Apple Accessories  \n",
              "2070  12085400  Apple Accessories  \n",
              "2072  12085400  Apple Accessories  \n",
              "9751  12085400  Apple Accessories  "
            ],
            "text/html": [
              "\n",
              "  <div id=\"df-cf9e3489-4ffd-46e4-85cf-f12f83c50b0d\">\n",
              "    <div class=\"colab-df-container\">\n",
              "      <div>\n",
              "<style scoped>\n",
              "    .dataframe tbody tr th:only-of-type {\n",
              "        vertical-align: middle;\n",
              "    }\n",
              "\n",
              "    .dataframe tbody tr th {\n",
              "        vertical-align: top;\n",
              "    }\n",
              "\n",
              "    .dataframe thead th {\n",
              "        text-align: right;\n",
              "    }\n",
              "</style>\n",
              "<table border=\"1\" class=\"dataframe\">\n",
              "  <thead>\n",
              "    <tr style=\"text-align: right;\">\n",
              "      <th></th>\n",
              "      <th>sku</th>\n",
              "      <th>name</th>\n",
              "      <th>desc</th>\n",
              "      <th>price</th>\n",
              "      <th>in_stock</th>\n",
              "      <th>type</th>\n",
              "      <th>category</th>\n",
              "    </tr>\n",
              "  </thead>\n",
              "  <tbody>\n",
              "    <tr>\n",
              "      <th>97</th>\n",
              "      <td>MAK0015</td>\n",
              "      <td>Stick Maclocks silver metal safely iPad</td>\n",
              "      <td>Security lock plate steel iPad.</td>\n",
              "      <td>49.99</td>\n",
              "      <td>0</td>\n",
              "      <td>12085400</td>\n",
              "      <td>Apple Accessories</td>\n",
              "    </tr>\n",
              "    <tr>\n",
              "      <th>1224</th>\n",
              "      <td>WHO0008</td>\n",
              "      <td>Whoosh DUO + ​​Cleanser 100ml + 8ml</td>\n",
              "      <td>Sprays cleaners Pack 2 screens.</td>\n",
              "      <td>19.99</td>\n",
              "      <td>0</td>\n",
              "      <td>12085400</td>\n",
              "      <td>Apple Accessories</td>\n",
              "    </tr>\n",
              "    <tr>\n",
              "      <th>2069</th>\n",
              "      <td>AST0007</td>\n",
              "      <td>Cleaning Spray pencil-astuce 6ml</td>\n",
              "      <td>Display Cleaner iPhone iPad iPod and Mac spray.</td>\n",
              "      <td>9.99</td>\n",
              "      <td>0</td>\n",
              "      <td>12085400</td>\n",
              "      <td>Apple Accessories</td>\n",
              "    </tr>\n",
              "    <tr>\n",
              "      <th>2070</th>\n",
              "      <td>AST0008</td>\n",
              "      <td>Astuce Spray 20ml cleaner form card</td>\n",
              "      <td>Display Cleaner iPhone iPad iPod and Mac spray.</td>\n",
              "      <td>12.99</td>\n",
              "      <td>0</td>\n",
              "      <td>12085400</td>\n",
              "      <td>Apple Accessories</td>\n",
              "    </tr>\n",
              "    <tr>\n",
              "      <th>2072</th>\n",
              "      <td>KEN0210</td>\n",
              "      <td>PresentAir Kensington Presenter Pro Bluetooth 4.0 LE</td>\n",
              "      <td>Bluetooth laser pointer.</td>\n",
              "      <td>59.99</td>\n",
              "      <td>0</td>\n",
              "      <td>12085400</td>\n",
              "      <td>Apple Accessories</td>\n",
              "    </tr>\n",
              "    <tr>\n",
              "      <th>9751</th>\n",
              "      <td>MTF0008</td>\n",
              "      <td>Mistify Clean Screens Natural 500ml.</td>\n",
              "      <td>Spray cleaning screens and keyboards.</td>\n",
              "      <td>14.99</td>\n",
              "      <td>1</td>\n",
              "      <td>12085400</td>\n",
              "      <td>Apple Accessories</td>\n",
              "    </tr>\n",
              "  </tbody>\n",
              "</table>\n",
              "</div>\n",
              "      <button class=\"colab-df-convert\" onclick=\"convertToInteractive('df-cf9e3489-4ffd-46e4-85cf-f12f83c50b0d')\"\n",
              "              title=\"Convert this dataframe to an interactive table.\"\n",
              "              style=\"display:none;\">\n",
              "        \n",
              "  <svg xmlns=\"http://www.w3.org/2000/svg\" height=\"24px\"viewBox=\"0 0 24 24\"\n",
              "       width=\"24px\">\n",
              "    <path d=\"M0 0h24v24H0V0z\" fill=\"none\"/>\n",
              "    <path d=\"M18.56 5.44l.94 2.06.94-2.06 2.06-.94-2.06-.94-.94-2.06-.94 2.06-2.06.94zm-11 1L8.5 8.5l.94-2.06 2.06-.94-2.06-.94L8.5 2.5l-.94 2.06-2.06.94zm10 10l.94 2.06.94-2.06 2.06-.94-2.06-.94-.94-2.06-.94 2.06-2.06.94z\"/><path d=\"M17.41 7.96l-1.37-1.37c-.4-.4-.92-.59-1.43-.59-.52 0-1.04.2-1.43.59L10.3 9.45l-7.72 7.72c-.78.78-.78 2.05 0 2.83L4 21.41c.39.39.9.59 1.41.59.51 0 1.02-.2 1.41-.59l7.78-7.78 2.81-2.81c.8-.78.8-2.07 0-2.86zM5.41 20L4 18.59l7.72-7.72 1.47 1.35L5.41 20z\"/>\n",
              "  </svg>\n",
              "      </button>\n",
              "      \n",
              "  <style>\n",
              "    .colab-df-container {\n",
              "      display:flex;\n",
              "      flex-wrap:wrap;\n",
              "      gap: 12px;\n",
              "    }\n",
              "\n",
              "    .colab-df-convert {\n",
              "      background-color: #E8F0FE;\n",
              "      border: none;\n",
              "      border-radius: 50%;\n",
              "      cursor: pointer;\n",
              "      display: none;\n",
              "      fill: #1967D2;\n",
              "      height: 32px;\n",
              "      padding: 0 0 0 0;\n",
              "      width: 32px;\n",
              "    }\n",
              "\n",
              "    .colab-df-convert:hover {\n",
              "      background-color: #E2EBFA;\n",
              "      box-shadow: 0px 1px 2px rgba(60, 64, 67, 0.3), 0px 1px 3px 1px rgba(60, 64, 67, 0.15);\n",
              "      fill: #174EA6;\n",
              "    }\n",
              "\n",
              "    [theme=dark] .colab-df-convert {\n",
              "      background-color: #3B4455;\n",
              "      fill: #D2E3FC;\n",
              "    }\n",
              "\n",
              "    [theme=dark] .colab-df-convert:hover {\n",
              "      background-color: #434B5C;\n",
              "      box-shadow: 0px 1px 3px 1px rgba(0, 0, 0, 0.15);\n",
              "      filter: drop-shadow(0px 1px 2px rgba(0, 0, 0, 0.3));\n",
              "      fill: #FFFFFF;\n",
              "    }\n",
              "  </style>\n",
              "\n",
              "      <script>\n",
              "        const buttonEl =\n",
              "          document.querySelector('#df-cf9e3489-4ffd-46e4-85cf-f12f83c50b0d button.colab-df-convert');\n",
              "        buttonEl.style.display =\n",
              "          google.colab.kernel.accessAllowed ? 'block' : 'none';\n",
              "\n",
              "        async function convertToInteractive(key) {\n",
              "          const element = document.querySelector('#df-cf9e3489-4ffd-46e4-85cf-f12f83c50b0d');\n",
              "          const dataTable =\n",
              "            await google.colab.kernel.invokeFunction('convertToInteractive',\n",
              "                                                     [key], {});\n",
              "          if (!dataTable) return;\n",
              "\n",
              "          const docLinkHtml = 'Like what you see? Visit the ' +\n",
              "            '<a target=\"_blank\" href=https://colab.research.google.com/notebooks/data_table.ipynb>data table notebook</a>'\n",
              "            + ' to learn more about interactive tables.';\n",
              "          element.innerHTML = '';\n",
              "          dataTable['output_type'] = 'display_data';\n",
              "          await google.colab.output.renderOutput(dataTable, element);\n",
              "          const docLink = document.createElement('div');\n",
              "          docLink.innerHTML = docLinkHtml;\n",
              "          element.appendChild(docLink);\n",
              "        }\n",
              "      </script>\n",
              "    </div>\n",
              "  </div>\n",
              "  "
            ]
          },
          "metadata": {},
          "execution_count": 80
        }
      ]
    },
    {
      "cell_type": "code",
      "source": [
        "category_type_df.loc[category_type_df[\"type\"].isin([\"5404\", '1375']), 'category':] = 'miscellaneous gadgets'"
      ],
      "metadata": {
        "id": "CMPvXWmNwCsr"
      },
      "execution_count": 108,
      "outputs": []
    },
    {
      "cell_type": "code",
      "source": [
        "54085407\n",
        "category_type_df.loc[category_type_df[\"type\"].isin([\"54085407\",'1424','101781405','21485407','12645406']), 'category':] = 'replacement parts & tools'"
      ],
      "metadata": {
        "id": "TxeQBT9cycCF"
      },
      "execution_count": 238,
      "outputs": []
    },
    {
      "cell_type": "code",
      "source": [
        "\n",
        "category_type_df.loc[category_type_df[\"type\"] == \"1334\", \"category\" :] = 'Router'"
      ],
      "metadata": {
        "id": "mJhvufIF2sP2"
      },
      "execution_count": 246,
      "outputs": []
    },
    {
      "cell_type": "code",
      "source": [
        "category_type_df"
      ],
      "metadata": {
        "colab": {
          "base_uri": "https://localhost:8080/",
          "height": 589
        },
        "id": "7PHfnuHqT4x9",
        "outputId": "2ca8a75f-0d27-4ecc-a812-80b0c7d564de"
      },
      "execution_count": 240,
      "outputs": [
        {
          "output_type": "execute_result",
          "data": {
            "text/plain": [
              "          sku                                           name  \\\n",
              "0     RAI0007              Silver Rain Design mStand Support   \n",
              "1     APP0023              Apple Mac Keyboard Keypad Spanish   \n",
              "2     APP0025               Mighty Mouse Apple Mouse for Mac   \n",
              "3     APP0072  Apple Dock to USB Cable iPhone and iPod white   \n",
              "4     KIN0007    Mac Memory Kingston 2GB 667MHz DDR2 SO-DIMM   \n",
              "...       ...                                            ...   \n",
              "9987  BEL0376        Belkin Travel Support Apple Watch Black   \n",
              "9988  THU0060   Enroute Thule 14L Backpack MacBook 13 \"Black   \n",
              "9989  THU0061    Enroute Thule 14L Backpack MacBook 13 \"Blue   \n",
              "9990  THU0062     Enroute Thule 14L Backpack MacBook 13 \"Red   \n",
              "9991  THU0063   Enroute Thule 14L Backpack MacBook 13 \"Green   \n",
              "\n",
              "                                                                                               desc  \\\n",
              "0                                                      Aluminum support compatible with all MacBook   \n",
              "1                                                         USB ultrathin keyboard Apple Mac Spanish.   \n",
              "2                                                                            mouse Apple USB cable.   \n",
              "3                                                             IPhone dock and USB Cable Apple iPod.   \n",
              "4                                     2GB RAM Mac mini and iMac (2006/07) MacBook Pro (2006/07/08).   \n",
              "...                                                                                             ...   \n",
              "9987                          compact and portable stand vertically or horizontally for Apple Watch   \n",
              "9988  Backpack with capacity of 14 liter compartments MacBook up to 13 inches up to 10 inches Cases   \n",
              "9989  Backpack with capacity of 14 liter compartments MacBook up to 13 inches up to 10 inches Cases   \n",
              "9990  Backpack with capacity of 14 liter compartments MacBook up to 13 inches up to 10 inches Cases   \n",
              "9991  Backpack with capacity of 14 liter compartments MacBook up to 13 inches up to 10 inches Cases   \n",
              "\n",
              "      price  in_stock      type                 category  \n",
              "0     59.99         1      8696        Apple Accessories  \n",
              "1     59.00         0  13855401   keyboard & accessories  \n",
              "2     59.00         0      1387        Apple Accessories  \n",
              "3     25.00         0      1230                    Cable  \n",
              "4     34.99         1      1364  External/storage Device  \n",
              "...     ...       ...       ...                      ...  \n",
              "9987  29.99         1     12282                   others  \n",
              "9988  69.95         1      1392                Back pack  \n",
              "9989  69.95         1      1392                Back pack  \n",
              "9990  69.95         0      1392                Back pack  \n",
              "9991  69.95         1      1392                Back pack  \n",
              "\n",
              "[9992 rows x 7 columns]"
            ],
            "text/html": [
              "\n",
              "  <div id=\"df-9ce963c8-ad75-4c29-9bae-6fc380a58775\">\n",
              "    <div class=\"colab-df-container\">\n",
              "      <div>\n",
              "<style scoped>\n",
              "    .dataframe tbody tr th:only-of-type {\n",
              "        vertical-align: middle;\n",
              "    }\n",
              "\n",
              "    .dataframe tbody tr th {\n",
              "        vertical-align: top;\n",
              "    }\n",
              "\n",
              "    .dataframe thead th {\n",
              "        text-align: right;\n",
              "    }\n",
              "</style>\n",
              "<table border=\"1\" class=\"dataframe\">\n",
              "  <thead>\n",
              "    <tr style=\"text-align: right;\">\n",
              "      <th></th>\n",
              "      <th>sku</th>\n",
              "      <th>name</th>\n",
              "      <th>desc</th>\n",
              "      <th>price</th>\n",
              "      <th>in_stock</th>\n",
              "      <th>type</th>\n",
              "      <th>category</th>\n",
              "    </tr>\n",
              "  </thead>\n",
              "  <tbody>\n",
              "    <tr>\n",
              "      <th>0</th>\n",
              "      <td>RAI0007</td>\n",
              "      <td>Silver Rain Design mStand Support</td>\n",
              "      <td>Aluminum support compatible with all MacBook</td>\n",
              "      <td>59.99</td>\n",
              "      <td>1</td>\n",
              "      <td>8696</td>\n",
              "      <td>Apple Accessories</td>\n",
              "    </tr>\n",
              "    <tr>\n",
              "      <th>1</th>\n",
              "      <td>APP0023</td>\n",
              "      <td>Apple Mac Keyboard Keypad Spanish</td>\n",
              "      <td>USB ultrathin keyboard Apple Mac Spanish.</td>\n",
              "      <td>59.00</td>\n",
              "      <td>0</td>\n",
              "      <td>13855401</td>\n",
              "      <td>keyboard &amp; accessories</td>\n",
              "    </tr>\n",
              "    <tr>\n",
              "      <th>2</th>\n",
              "      <td>APP0025</td>\n",
              "      <td>Mighty Mouse Apple Mouse for Mac</td>\n",
              "      <td>mouse Apple USB cable.</td>\n",
              "      <td>59.00</td>\n",
              "      <td>0</td>\n",
              "      <td>1387</td>\n",
              "      <td>Apple Accessories</td>\n",
              "    </tr>\n",
              "    <tr>\n",
              "      <th>3</th>\n",
              "      <td>APP0072</td>\n",
              "      <td>Apple Dock to USB Cable iPhone and iPod white</td>\n",
              "      <td>IPhone dock and USB Cable Apple iPod.</td>\n",
              "      <td>25.00</td>\n",
              "      <td>0</td>\n",
              "      <td>1230</td>\n",
              "      <td>Cable</td>\n",
              "    </tr>\n",
              "    <tr>\n",
              "      <th>4</th>\n",
              "      <td>KIN0007</td>\n",
              "      <td>Mac Memory Kingston 2GB 667MHz DDR2 SO-DIMM</td>\n",
              "      <td>2GB RAM Mac mini and iMac (2006/07) MacBook Pro (2006/07/08).</td>\n",
              "      <td>34.99</td>\n",
              "      <td>1</td>\n",
              "      <td>1364</td>\n",
              "      <td>External/storage Device</td>\n",
              "    </tr>\n",
              "    <tr>\n",
              "      <th>...</th>\n",
              "      <td>...</td>\n",
              "      <td>...</td>\n",
              "      <td>...</td>\n",
              "      <td>...</td>\n",
              "      <td>...</td>\n",
              "      <td>...</td>\n",
              "      <td>...</td>\n",
              "    </tr>\n",
              "    <tr>\n",
              "      <th>9987</th>\n",
              "      <td>BEL0376</td>\n",
              "      <td>Belkin Travel Support Apple Watch Black</td>\n",
              "      <td>compact and portable stand vertically or horizontally for Apple Watch</td>\n",
              "      <td>29.99</td>\n",
              "      <td>1</td>\n",
              "      <td>12282</td>\n",
              "      <td>others</td>\n",
              "    </tr>\n",
              "    <tr>\n",
              "      <th>9988</th>\n",
              "      <td>THU0060</td>\n",
              "      <td>Enroute Thule 14L Backpack MacBook 13 \"Black</td>\n",
              "      <td>Backpack with capacity of 14 liter compartments MacBook up to 13 inches up to 10 inches Cases</td>\n",
              "      <td>69.95</td>\n",
              "      <td>1</td>\n",
              "      <td>1392</td>\n",
              "      <td>Back pack</td>\n",
              "    </tr>\n",
              "    <tr>\n",
              "      <th>9989</th>\n",
              "      <td>THU0061</td>\n",
              "      <td>Enroute Thule 14L Backpack MacBook 13 \"Blue</td>\n",
              "      <td>Backpack with capacity of 14 liter compartments MacBook up to 13 inches up to 10 inches Cases</td>\n",
              "      <td>69.95</td>\n",
              "      <td>1</td>\n",
              "      <td>1392</td>\n",
              "      <td>Back pack</td>\n",
              "    </tr>\n",
              "    <tr>\n",
              "      <th>9990</th>\n",
              "      <td>THU0062</td>\n",
              "      <td>Enroute Thule 14L Backpack MacBook 13 \"Red</td>\n",
              "      <td>Backpack with capacity of 14 liter compartments MacBook up to 13 inches up to 10 inches Cases</td>\n",
              "      <td>69.95</td>\n",
              "      <td>0</td>\n",
              "      <td>1392</td>\n",
              "      <td>Back pack</td>\n",
              "    </tr>\n",
              "    <tr>\n",
              "      <th>9991</th>\n",
              "      <td>THU0063</td>\n",
              "      <td>Enroute Thule 14L Backpack MacBook 13 \"Green</td>\n",
              "      <td>Backpack with capacity of 14 liter compartments MacBook up to 13 inches up to 10 inches Cases</td>\n",
              "      <td>69.95</td>\n",
              "      <td>1</td>\n",
              "      <td>1392</td>\n",
              "      <td>Back pack</td>\n",
              "    </tr>\n",
              "  </tbody>\n",
              "</table>\n",
              "<p>9992 rows × 7 columns</p>\n",
              "</div>\n",
              "      <button class=\"colab-df-convert\" onclick=\"convertToInteractive('df-9ce963c8-ad75-4c29-9bae-6fc380a58775')\"\n",
              "              title=\"Convert this dataframe to an interactive table.\"\n",
              "              style=\"display:none;\">\n",
              "        \n",
              "  <svg xmlns=\"http://www.w3.org/2000/svg\" height=\"24px\"viewBox=\"0 0 24 24\"\n",
              "       width=\"24px\">\n",
              "    <path d=\"M0 0h24v24H0V0z\" fill=\"none\"/>\n",
              "    <path d=\"M18.56 5.44l.94 2.06.94-2.06 2.06-.94-2.06-.94-.94-2.06-.94 2.06-2.06.94zm-11 1L8.5 8.5l.94-2.06 2.06-.94-2.06-.94L8.5 2.5l-.94 2.06-2.06.94zm10 10l.94 2.06.94-2.06 2.06-.94-2.06-.94-.94-2.06-.94 2.06-2.06.94z\"/><path d=\"M17.41 7.96l-1.37-1.37c-.4-.4-.92-.59-1.43-.59-.52 0-1.04.2-1.43.59L10.3 9.45l-7.72 7.72c-.78.78-.78 2.05 0 2.83L4 21.41c.39.39.9.59 1.41.59.51 0 1.02-.2 1.41-.59l7.78-7.78 2.81-2.81c.8-.78.8-2.07 0-2.86zM5.41 20L4 18.59l7.72-7.72 1.47 1.35L5.41 20z\"/>\n",
              "  </svg>\n",
              "      </button>\n",
              "      \n",
              "  <style>\n",
              "    .colab-df-container {\n",
              "      display:flex;\n",
              "      flex-wrap:wrap;\n",
              "      gap: 12px;\n",
              "    }\n",
              "\n",
              "    .colab-df-convert {\n",
              "      background-color: #E8F0FE;\n",
              "      border: none;\n",
              "      border-radius: 50%;\n",
              "      cursor: pointer;\n",
              "      display: none;\n",
              "      fill: #1967D2;\n",
              "      height: 32px;\n",
              "      padding: 0 0 0 0;\n",
              "      width: 32px;\n",
              "    }\n",
              "\n",
              "    .colab-df-convert:hover {\n",
              "      background-color: #E2EBFA;\n",
              "      box-shadow: 0px 1px 2px rgba(60, 64, 67, 0.3), 0px 1px 3px 1px rgba(60, 64, 67, 0.15);\n",
              "      fill: #174EA6;\n",
              "    }\n",
              "\n",
              "    [theme=dark] .colab-df-convert {\n",
              "      background-color: #3B4455;\n",
              "      fill: #D2E3FC;\n",
              "    }\n",
              "\n",
              "    [theme=dark] .colab-df-convert:hover {\n",
              "      background-color: #434B5C;\n",
              "      box-shadow: 0px 1px 3px 1px rgba(0, 0, 0, 0.15);\n",
              "      filter: drop-shadow(0px 1px 2px rgba(0, 0, 0, 0.3));\n",
              "      fill: #FFFFFF;\n",
              "    }\n",
              "  </style>\n",
              "\n",
              "      <script>\n",
              "        const buttonEl =\n",
              "          document.querySelector('#df-9ce963c8-ad75-4c29-9bae-6fc380a58775 button.colab-df-convert');\n",
              "        buttonEl.style.display =\n",
              "          google.colab.kernel.accessAllowed ? 'block' : 'none';\n",
              "\n",
              "        async function convertToInteractive(key) {\n",
              "          const element = document.querySelector('#df-9ce963c8-ad75-4c29-9bae-6fc380a58775');\n",
              "          const dataTable =\n",
              "            await google.colab.kernel.invokeFunction('convertToInteractive',\n",
              "                                                     [key], {});\n",
              "          if (!dataTable) return;\n",
              "\n",
              "          const docLinkHtml = 'Like what you see? Visit the ' +\n",
              "            '<a target=\"_blank\" href=https://colab.research.google.com/notebooks/data_table.ipynb>data table notebook</a>'\n",
              "            + ' to learn more about interactive tables.';\n",
              "          element.innerHTML = '';\n",
              "          dataTable['output_type'] = 'display_data';\n",
              "          await google.colab.output.renderOutput(dataTable, element);\n",
              "          const docLink = document.createElement('div');\n",
              "          docLink.innerHTML = docLinkHtml;\n",
              "          element.appendChild(docLink);\n",
              "        }\n",
              "      </script>\n",
              "    </div>\n",
              "  </div>\n",
              "  "
            ]
          },
          "metadata": {},
          "execution_count": 240
        }
      ]
    },
    {
      "cell_type": "code",
      "source": [
        "category_type_df.loc[category_type_df[\"category\"] == \"apple watch & accessories\":] "
      ],
      "metadata": {
        "colab": {
          "base_uri": "https://localhost:8080/",
          "height": 312
        },
        "id": "43Bxc1p9UfD4",
        "outputId": "a46ecdd7-eed8-482f-9813-50d2c51af627"
      },
      "execution_count": 247,
      "outputs": [
        {
          "output_type": "error",
          "ename": "AssertionError",
          "evalue": "ignored",
          "traceback": [
            "\u001b[0;31m---------------------------------------------------------------------------\u001b[0m",
            "\u001b[0;31mAssertionError\u001b[0m                            Traceback (most recent call last)",
            "\u001b[0;32m<ipython-input-247-7beb5c0634e7>\u001b[0m in \u001b[0;36m<module>\u001b[0;34m\u001b[0m\n\u001b[0;32m----> 1\u001b[0;31m \u001b[0mcategory_type_df\u001b[0m\u001b[0;34m.\u001b[0m\u001b[0mloc\u001b[0m\u001b[0;34m[\u001b[0m\u001b[0mcategory_type_df\u001b[0m\u001b[0;34m[\u001b[0m\u001b[0;34m\"category\"\u001b[0m\u001b[0;34m]\u001b[0m \u001b[0;34m==\u001b[0m \u001b[0;34m\"apple watch & accessories\"\u001b[0m\u001b[0;34m:\u001b[0m\u001b[0;34m]\u001b[0m\u001b[0;34m\u001b[0m\u001b[0;34m\u001b[0m\u001b[0m\n\u001b[0m",
            "\u001b[0;32m/usr/local/lib/python3.7/dist-packages/pandas/core/indexing.py\u001b[0m in \u001b[0;36m__getitem__\u001b[0;34m(self, key)\u001b[0m\n\u001b[1;32m    929\u001b[0m \u001b[0;34m\u001b[0m\u001b[0m\n\u001b[1;32m    930\u001b[0m             \u001b[0mmaybe_callable\u001b[0m \u001b[0;34m=\u001b[0m \u001b[0mcom\u001b[0m\u001b[0;34m.\u001b[0m\u001b[0mapply_if_callable\u001b[0m\u001b[0;34m(\u001b[0m\u001b[0mkey\u001b[0m\u001b[0;34m,\u001b[0m \u001b[0mself\u001b[0m\u001b[0;34m.\u001b[0m\u001b[0mobj\u001b[0m\u001b[0;34m)\u001b[0m\u001b[0;34m\u001b[0m\u001b[0;34m\u001b[0m\u001b[0m\n\u001b[0;32m--> 931\u001b[0;31m             \u001b[0;32mreturn\u001b[0m \u001b[0mself\u001b[0m\u001b[0;34m.\u001b[0m\u001b[0m_getitem_axis\u001b[0m\u001b[0;34m(\u001b[0m\u001b[0mmaybe_callable\u001b[0m\u001b[0;34m,\u001b[0m \u001b[0maxis\u001b[0m\u001b[0;34m=\u001b[0m\u001b[0maxis\u001b[0m\u001b[0;34m)\u001b[0m\u001b[0;34m\u001b[0m\u001b[0;34m\u001b[0m\u001b[0m\n\u001b[0m\u001b[1;32m    932\u001b[0m \u001b[0;34m\u001b[0m\u001b[0m\n\u001b[1;32m    933\u001b[0m     \u001b[0;32mdef\u001b[0m \u001b[0m_is_scalar_access\u001b[0m\u001b[0;34m(\u001b[0m\u001b[0mself\u001b[0m\u001b[0;34m,\u001b[0m \u001b[0mkey\u001b[0m\u001b[0;34m:\u001b[0m \u001b[0mtuple\u001b[0m\u001b[0;34m)\u001b[0m\u001b[0;34m:\u001b[0m\u001b[0;34m\u001b[0m\u001b[0;34m\u001b[0m\u001b[0m\n",
            "\u001b[0;32m/usr/local/lib/python3.7/dist-packages/pandas/core/indexing.py\u001b[0m in \u001b[0;36m_getitem_axis\u001b[0;34m(self, key, axis)\u001b[0m\n\u001b[1;32m   1140\u001b[0m         \u001b[0;32mif\u001b[0m \u001b[0misinstance\u001b[0m\u001b[0;34m(\u001b[0m\u001b[0mkey\u001b[0m\u001b[0;34m,\u001b[0m \u001b[0mslice\u001b[0m\u001b[0;34m)\u001b[0m\u001b[0;34m:\u001b[0m\u001b[0;34m\u001b[0m\u001b[0;34m\u001b[0m\u001b[0m\n\u001b[1;32m   1141\u001b[0m             \u001b[0mself\u001b[0m\u001b[0;34m.\u001b[0m\u001b[0m_validate_key\u001b[0m\u001b[0;34m(\u001b[0m\u001b[0mkey\u001b[0m\u001b[0;34m,\u001b[0m \u001b[0maxis\u001b[0m\u001b[0;34m)\u001b[0m\u001b[0;34m\u001b[0m\u001b[0;34m\u001b[0m\u001b[0m\n\u001b[0;32m-> 1142\u001b[0;31m             \u001b[0;32mreturn\u001b[0m \u001b[0mself\u001b[0m\u001b[0;34m.\u001b[0m\u001b[0m_get_slice_axis\u001b[0m\u001b[0;34m(\u001b[0m\u001b[0mkey\u001b[0m\u001b[0;34m,\u001b[0m \u001b[0maxis\u001b[0m\u001b[0;34m=\u001b[0m\u001b[0maxis\u001b[0m\u001b[0;34m)\u001b[0m\u001b[0;34m\u001b[0m\u001b[0;34m\u001b[0m\u001b[0m\n\u001b[0m\u001b[1;32m   1143\u001b[0m         \u001b[0;32melif\u001b[0m \u001b[0mcom\u001b[0m\u001b[0;34m.\u001b[0m\u001b[0mis_bool_indexer\u001b[0m\u001b[0;34m(\u001b[0m\u001b[0mkey\u001b[0m\u001b[0;34m)\u001b[0m\u001b[0;34m:\u001b[0m\u001b[0;34m\u001b[0m\u001b[0;34m\u001b[0m\u001b[0m\n\u001b[1;32m   1144\u001b[0m             \u001b[0;32mreturn\u001b[0m \u001b[0mself\u001b[0m\u001b[0;34m.\u001b[0m\u001b[0m_getbool_axis\u001b[0m\u001b[0;34m(\u001b[0m\u001b[0mkey\u001b[0m\u001b[0;34m,\u001b[0m \u001b[0maxis\u001b[0m\u001b[0;34m=\u001b[0m\u001b[0maxis\u001b[0m\u001b[0;34m)\u001b[0m\u001b[0;34m\u001b[0m\u001b[0;34m\u001b[0m\u001b[0m\n",
            "\u001b[0;32m/usr/local/lib/python3.7/dist-packages/pandas/core/indexing.py\u001b[0m in \u001b[0;36m_get_slice_axis\u001b[0;34m(self, slice_obj, axis)\u001b[0m\n\u001b[1;32m   1174\u001b[0m \u001b[0;34m\u001b[0m\u001b[0m\n\u001b[1;32m   1175\u001b[0m         \u001b[0mlabels\u001b[0m \u001b[0;34m=\u001b[0m \u001b[0mobj\u001b[0m\u001b[0;34m.\u001b[0m\u001b[0m_get_axis\u001b[0m\u001b[0;34m(\u001b[0m\u001b[0maxis\u001b[0m\u001b[0;34m)\u001b[0m\u001b[0;34m\u001b[0m\u001b[0;34m\u001b[0m\u001b[0m\n\u001b[0;32m-> 1176\u001b[0;31m         \u001b[0mindexer\u001b[0m \u001b[0;34m=\u001b[0m \u001b[0mlabels\u001b[0m\u001b[0;34m.\u001b[0m\u001b[0mslice_indexer\u001b[0m\u001b[0;34m(\u001b[0m\u001b[0mslice_obj\u001b[0m\u001b[0;34m.\u001b[0m\u001b[0mstart\u001b[0m\u001b[0;34m,\u001b[0m \u001b[0mslice_obj\u001b[0m\u001b[0;34m.\u001b[0m\u001b[0mstop\u001b[0m\u001b[0;34m,\u001b[0m \u001b[0mslice_obj\u001b[0m\u001b[0;34m.\u001b[0m\u001b[0mstep\u001b[0m\u001b[0;34m)\u001b[0m\u001b[0;34m\u001b[0m\u001b[0;34m\u001b[0m\u001b[0m\n\u001b[0m\u001b[1;32m   1177\u001b[0m \u001b[0;34m\u001b[0m\u001b[0m\n\u001b[1;32m   1178\u001b[0m         \u001b[0;32mif\u001b[0m \u001b[0misinstance\u001b[0m\u001b[0;34m(\u001b[0m\u001b[0mindexer\u001b[0m\u001b[0;34m,\u001b[0m \u001b[0mslice\u001b[0m\u001b[0;34m)\u001b[0m\u001b[0;34m:\u001b[0m\u001b[0;34m\u001b[0m\u001b[0;34m\u001b[0m\u001b[0m\n",
            "\u001b[0;32m/usr/local/lib/python3.7/dist-packages/pandas/core/indexes/base.py\u001b[0m in \u001b[0;36mslice_indexer\u001b[0;34m(self, start, end, step, kind)\u001b[0m\n\u001b[1;32m   5687\u001b[0m         \u001b[0;31m# return a slice\u001b[0m\u001b[0;34m\u001b[0m\u001b[0;34m\u001b[0m\u001b[0;34m\u001b[0m\u001b[0m\n\u001b[1;32m   5688\u001b[0m         \u001b[0;32mif\u001b[0m \u001b[0;32mnot\u001b[0m \u001b[0mis_scalar\u001b[0m\u001b[0;34m(\u001b[0m\u001b[0mstart_slice\u001b[0m\u001b[0;34m)\u001b[0m\u001b[0;34m:\u001b[0m\u001b[0;34m\u001b[0m\u001b[0;34m\u001b[0m\u001b[0m\n\u001b[0;32m-> 5689\u001b[0;31m             \u001b[0;32mraise\u001b[0m \u001b[0mAssertionError\u001b[0m\u001b[0;34m(\u001b[0m\u001b[0;34m\"Start slice bound is non-scalar\"\u001b[0m\u001b[0;34m)\u001b[0m\u001b[0;34m\u001b[0m\u001b[0;34m\u001b[0m\u001b[0m\n\u001b[0m\u001b[1;32m   5690\u001b[0m         \u001b[0;32mif\u001b[0m \u001b[0;32mnot\u001b[0m \u001b[0mis_scalar\u001b[0m\u001b[0;34m(\u001b[0m\u001b[0mend_slice\u001b[0m\u001b[0;34m)\u001b[0m\u001b[0;34m:\u001b[0m\u001b[0;34m\u001b[0m\u001b[0;34m\u001b[0m\u001b[0m\n\u001b[1;32m   5691\u001b[0m             \u001b[0;32mraise\u001b[0m \u001b[0mAssertionError\u001b[0m\u001b[0;34m(\u001b[0m\u001b[0;34m\"End slice bound is non-scalar\"\u001b[0m\u001b[0;34m)\u001b[0m\u001b[0;34m\u001b[0m\u001b[0;34m\u001b[0m\u001b[0m\n",
            "\u001b[0;31mAssertionError\u001b[0m: Start slice bound is non-scalar"
          ]
        }
      ]
    }
  ]
}