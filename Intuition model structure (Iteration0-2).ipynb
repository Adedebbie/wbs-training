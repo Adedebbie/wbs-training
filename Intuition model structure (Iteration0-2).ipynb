{
 "cells": [
  {
   "cell_type": "code",
   "execution_count": 2,
   "id": "c0434af0",
   "metadata": {},
   "outputs": [],
   "source": [
    "import pandas as pd"
   ]
  },
  {
   "cell_type": "code",
   "execution_count": 6,
   "id": "2dca327d",
   "metadata": {},
   "outputs": [],
   "source": [
    "#Data reading\n",
    "X = pd.read_csv('housing-classification-iter6.csv') # feature vector\n",
    "y = X.pop('Expensive') #target/label\n",
    "#X.head()"
   ]
  },
  {
   "cell_type": "code",
   "execution_count": 5,
   "id": "e28b4efe",
   "metadata": {},
   "outputs": [],
   "source": [
    "from sklearn.model_selection import train_test_split\n",
    "X_train,X_test, y_train, y_test = train_test_split(X, y, test_size=0.2, random_state=31436)"
   ]
  },
  {
   "cell_type": "markdown",
   "id": "32806e96",
   "metadata": {},
   "source": [
    "#### we'll create a simple working solution by by predicting that all the houses are cheap"
   ]
  },
  {
   "cell_type": "code",
   "execution_count": 7,
   "id": "17a1b304",
   "metadata": {},
   "outputs": [
    {
     "data": {
      "text/plain": [
       "0    989\n",
       "1    179\n",
       "Name: Expensive, dtype: int64"
      ]
     },
     "execution_count": 7,
     "metadata": {},
     "output_type": "execute_result"
    }
   ],
   "source": [
    "y_train.value_counts()"
   ]
  },
  {
   "cell_type": "code",
   "execution_count": 8,
   "id": "1ac31857",
   "metadata": {},
   "outputs": [
    {
     "data": {
      "text/plain": [
       "1168"
      ]
     },
     "execution_count": 8,
     "metadata": {},
     "output_type": "execute_result"
    }
   ],
   "source": [
    "len(y_train) "
   ]
  },
  {
   "cell_type": "markdown",
   "id": "e8917c25",
   "metadata": {},
   "source": [
    "#### predicitons for train set will be 1168 zeros"
   ]
  },
  {
   "cell_type": "code",
   "execution_count": 10,
   "id": "90497b31",
   "metadata": {},
   "outputs": [],
   "source": [
    "pred_pessimistic_train = pd.Series(0, index=range(1168))"
   ]
  },
  {
   "cell_type": "markdown",
   "id": "236b0d24",
   "metadata": {},
   "source": [
    "###### To find out how good those predictions are, we will compare them with the true values and find out the percentage of correctly predicted prices"
   ]
  },
  {
   "cell_type": "code",
   "execution_count": 14,
   "id": "4aa96401",
   "metadata": {},
   "outputs": [
    {
     "data": {
      "text/plain": [
       "0.85"
      ]
     },
     "execution_count": 14,
     "metadata": {},
     "output_type": "execute_result"
    }
   ],
   "source": [
    "from sklearn.metrics import accuracy_score\n",
    "\n",
    "train_accuracy = accuracy_score(\n",
    "    y_true = y_train,\n",
    "    y_pred = pred_pessimistic_train\n",
    ")\n",
    "\n",
    "round(train_accuracy, 2) #rounding output to 2 sf"
   ]
  },
  {
   "cell_type": "markdown",
   "id": "00282af3",
   "metadata": {},
   "source": [
    "#### finding out accuracy on test dataset"
   ]
  },
  {
   "cell_type": "code",
   "execution_count": 16,
   "id": "85c9e93e",
   "metadata": {},
   "outputs": [
    {
     "data": {
      "text/plain": [
       "292"
      ]
     },
     "execution_count": 16,
     "metadata": {},
     "output_type": "execute_result"
    }
   ],
   "source": [
    "len(y_test)"
   ]
  },
  {
   "cell_type": "code",
   "execution_count": 17,
   "id": "371ff249",
   "metadata": {},
   "outputs": [],
   "source": [
    "pred_pessimistic_test = pd.Series(0, index=range(292))"
   ]
  },
  {
   "cell_type": "code",
   "execution_count": 18,
   "id": "53563714",
   "metadata": {},
   "outputs": [
    {
     "data": {
      "text/plain": [
       "0.87"
      ]
     },
     "execution_count": 18,
     "metadata": {},
     "output_type": "execute_result"
    }
   ],
   "source": [
    "test_accuracy = accuracy_score(\n",
    "    y_true = y_test,\n",
    "    y_pred = pred_pessimistic_test\n",
    ")\n",
    "\n",
    "round(test_accuracy, 2)"
   ]
  },
  {
   "cell_type": "markdown",
   "id": "c3f12fa4",
   "metadata": {},
   "source": [
    "#### Creating another intuition based model using another dataset"
   ]
  },
  {
   "cell_type": "code",
   "execution_count": 57,
   "id": "0c5eda2e",
   "metadata": {},
   "outputs": [
    {
     "data": {
      "text/plain": [
       "Index(['PassengerId', 'Survived', 'Pclass', 'Name', 'Sex', 'Age', 'SibSp',\n",
       "       'Parch', 'Ticket', 'Fare', 'Cabin', 'Embarked'],\n",
       "      dtype='object')"
      ]
     },
     "execution_count": 57,
     "metadata": {},
     "output_type": "execute_result"
    }
   ],
   "source": [
    "import pandas as pd\n",
    "\n",
    "url = \"https://drive.google.com/file/d/1g3uhw_y3tboRm2eYDPfUzXXsw8IOYDCy/view?usp=sharing\"\n",
    "path = 'https://drive.google.com/uc?export=download&id='+url.split('/')[-2]\n",
    "\n",
    "\n",
    "data = pd.read_csv(path)\n",
    "data.columns"
   ]
  },
  {
   "cell_type": "markdown",
   "id": "7312ec80",
   "metadata": {},
   "source": [
    "#### Creating new column based on sex, assigning  '1' to female and '0' to male"
   ]
  },
  {
   "cell_type": "code",
   "execution_count": 58,
   "id": "b18ec31d",
   "metadata": {},
   "outputs": [],
   "source": [
    "def new_column(row):\n",
    "    if row ['Sex'] == 'female':\n",
    "        return 1\n",
    "    elif row ['Sex'] == 'male':\n",
    "        return 0\n"
   ]
  },
  {
   "cell_type": "code",
   "execution_count": 59,
   "id": "e2c95203",
   "metadata": {},
   "outputs": [],
   "source": [
    "data['Sex_int'] = data.apply(lambda row: new_column(row), axis=1)"
   ]
  },
  {
   "cell_type": "code",
   "execution_count": 60,
   "id": "920d6cc3",
   "metadata": {},
   "outputs": [
    {
     "data": {
      "text/html": [
       "<div>\n",
       "<style scoped>\n",
       "    .dataframe tbody tr th:only-of-type {\n",
       "        vertical-align: middle;\n",
       "    }\n",
       "\n",
       "    .dataframe tbody tr th {\n",
       "        vertical-align: top;\n",
       "    }\n",
       "\n",
       "    .dataframe thead th {\n",
       "        text-align: right;\n",
       "    }\n",
       "</style>\n",
       "<table border=\"1\" class=\"dataframe\">\n",
       "  <thead>\n",
       "    <tr style=\"text-align: right;\">\n",
       "      <th></th>\n",
       "      <th>PassengerId</th>\n",
       "      <th>Survived</th>\n",
       "      <th>Pclass</th>\n",
       "      <th>Name</th>\n",
       "      <th>Sex</th>\n",
       "      <th>Age</th>\n",
       "      <th>SibSp</th>\n",
       "      <th>Parch</th>\n",
       "      <th>Ticket</th>\n",
       "      <th>Fare</th>\n",
       "      <th>Cabin</th>\n",
       "      <th>Embarked</th>\n",
       "      <th>Sex_int</th>\n",
       "    </tr>\n",
       "  </thead>\n",
       "  <tbody>\n",
       "    <tr>\n",
       "      <th>0</th>\n",
       "      <td>1</td>\n",
       "      <td>0</td>\n",
       "      <td>3</td>\n",
       "      <td>Braund, Mr. Owen Harris</td>\n",
       "      <td>male</td>\n",
       "      <td>22.0</td>\n",
       "      <td>1</td>\n",
       "      <td>0</td>\n",
       "      <td>A/5 21171</td>\n",
       "      <td>7.2500</td>\n",
       "      <td>NaN</td>\n",
       "      <td>S</td>\n",
       "      <td>0</td>\n",
       "    </tr>\n",
       "    <tr>\n",
       "      <th>1</th>\n",
       "      <td>2</td>\n",
       "      <td>1</td>\n",
       "      <td>1</td>\n",
       "      <td>Cumings, Mrs. John Bradley (Florence Briggs Th...</td>\n",
       "      <td>female</td>\n",
       "      <td>38.0</td>\n",
       "      <td>1</td>\n",
       "      <td>0</td>\n",
       "      <td>PC 17599</td>\n",
       "      <td>71.2833</td>\n",
       "      <td>C85</td>\n",
       "      <td>C</td>\n",
       "      <td>1</td>\n",
       "    </tr>\n",
       "    <tr>\n",
       "      <th>2</th>\n",
       "      <td>3</td>\n",
       "      <td>1</td>\n",
       "      <td>3</td>\n",
       "      <td>Heikkinen, Miss. Laina</td>\n",
       "      <td>female</td>\n",
       "      <td>26.0</td>\n",
       "      <td>0</td>\n",
       "      <td>0</td>\n",
       "      <td>STON/O2. 3101282</td>\n",
       "      <td>7.9250</td>\n",
       "      <td>NaN</td>\n",
       "      <td>S</td>\n",
       "      <td>1</td>\n",
       "    </tr>\n",
       "    <tr>\n",
       "      <th>3</th>\n",
       "      <td>4</td>\n",
       "      <td>1</td>\n",
       "      <td>1</td>\n",
       "      <td>Futrelle, Mrs. Jacques Heath (Lily May Peel)</td>\n",
       "      <td>female</td>\n",
       "      <td>35.0</td>\n",
       "      <td>1</td>\n",
       "      <td>0</td>\n",
       "      <td>113803</td>\n",
       "      <td>53.1000</td>\n",
       "      <td>C123</td>\n",
       "      <td>S</td>\n",
       "      <td>1</td>\n",
       "    </tr>\n",
       "    <tr>\n",
       "      <th>4</th>\n",
       "      <td>5</td>\n",
       "      <td>0</td>\n",
       "      <td>3</td>\n",
       "      <td>Allen, Mr. William Henry</td>\n",
       "      <td>male</td>\n",
       "      <td>35.0</td>\n",
       "      <td>0</td>\n",
       "      <td>0</td>\n",
       "      <td>373450</td>\n",
       "      <td>8.0500</td>\n",
       "      <td>NaN</td>\n",
       "      <td>S</td>\n",
       "      <td>0</td>\n",
       "    </tr>\n",
       "  </tbody>\n",
       "</table>\n",
       "</div>"
      ],
      "text/plain": [
       "   PassengerId  Survived  Pclass  \\\n",
       "0            1         0       3   \n",
       "1            2         1       1   \n",
       "2            3         1       3   \n",
       "3            4         1       1   \n",
       "4            5         0       3   \n",
       "\n",
       "                                                Name     Sex   Age  SibSp  \\\n",
       "0                            Braund, Mr. Owen Harris    male  22.0      1   \n",
       "1  Cumings, Mrs. John Bradley (Florence Briggs Th...  female  38.0      1   \n",
       "2                             Heikkinen, Miss. Laina  female  26.0      0   \n",
       "3       Futrelle, Mrs. Jacques Heath (Lily May Peel)  female  35.0      1   \n",
       "4                           Allen, Mr. William Henry    male  35.0      0   \n",
       "\n",
       "   Parch            Ticket     Fare Cabin Embarked  Sex_int  \n",
       "0      0         A/5 21171   7.2500   NaN        S        0  \n",
       "1      0          PC 17599  71.2833   C85        C        1  \n",
       "2      0  STON/O2. 3101282   7.9250   NaN        S        1  \n",
       "3      0            113803  53.1000  C123        S        1  \n",
       "4      0            373450   8.0500   NaN        S        0  "
      ]
     },
     "execution_count": 60,
     "metadata": {},
     "output_type": "execute_result"
    }
   ],
   "source": [
    "data.head()"
   ]
  },
  {
   "cell_type": "code",
   "execution_count": 61,
   "id": "e4edf73c",
   "metadata": {},
   "outputs": [],
   "source": [
    "X = data.drop(columns = ['PassengerId', 'Ticket','Name' ])\n",
    "y = X.pop('Sex_int')"
   ]
  },
  {
   "cell_type": "code",
   "execution_count": 62,
   "id": "b29d3161",
   "metadata": {},
   "outputs": [],
   "source": [
    "#X.info()"
   ]
  },
  {
   "cell_type": "markdown",
   "id": "c5766b76",
   "metadata": {},
   "source": [
    "##### Data splitting"
   ]
  },
  {
   "cell_type": "code",
   "execution_count": 67,
   "id": "4f4845ba",
   "metadata": {},
   "outputs": [],
   "source": [
    "X_train, X_test,y_train, y_test = train_test_split(X, y, test_size=0.2, random_state=3736)"
   ]
  },
  {
   "cell_type": "code",
   "execution_count": 68,
   "id": "9fbec580",
   "metadata": {},
   "outputs": [
    {
     "data": {
      "text/plain": [
       "0    462\n",
       "1    250\n",
       "Name: Sex_int, dtype: int64"
      ]
     },
     "execution_count": 68,
     "metadata": {},
     "output_type": "execute_result"
    }
   ],
   "source": [
    "y_train.value_counts()"
   ]
  },
  {
   "cell_type": "code",
   "execution_count": 69,
   "id": "67f85360",
   "metadata": {},
   "outputs": [
    {
     "data": {
      "text/plain": [
       "712"
      ]
     },
     "execution_count": 69,
     "metadata": {},
     "output_type": "execute_result"
    }
   ],
   "source": [
    "len(y_train)"
   ]
  },
  {
   "cell_type": "markdown",
   "id": "80a4d0db",
   "metadata": {},
   "source": [
    "#### Predicting all the passengers are male and checking accuracy"
   ]
  },
  {
   "cell_type": "code",
   "execution_count": 70,
   "id": "9f696d48",
   "metadata": {},
   "outputs": [],
   "source": [
    "pred_male_train = pd.Series(0, index=range(712))"
   ]
  },
  {
   "cell_type": "code",
   "execution_count": 71,
   "id": "be55e22c",
   "metadata": {},
   "outputs": [
    {
     "data": {
      "text/plain": [
       "0.65"
      ]
     },
     "execution_count": 71,
     "metadata": {},
     "output_type": "execute_result"
    }
   ],
   "source": [
    "\n",
    "train_accuracy = accuracy_score(\n",
    "    y_true = y_train,\n",
    "    y_pred = pred_female_train\n",
    ")\n",
    "\n",
    "round(train_accuracy, 2) #rounding output to 2 sf"
   ]
  },
  {
   "cell_type": "code",
   "execution_count": 72,
   "id": "ee9a2e9b",
   "metadata": {},
   "outputs": [
    {
     "data": {
      "text/plain": [
       "179"
      ]
     },
     "execution_count": 72,
     "metadata": {},
     "output_type": "execute_result"
    }
   ],
   "source": [
    "len(y_test)"
   ]
  },
  {
   "cell_type": "code",
   "execution_count": 73,
   "id": "0b091a04",
   "metadata": {},
   "outputs": [],
   "source": [
    "pred_male_test = pd.Series(0, index=range(179))"
   ]
  },
  {
   "cell_type": "code",
   "execution_count": 74,
   "id": "4aaadf9e",
   "metadata": {},
   "outputs": [
    {
     "data": {
      "text/plain": [
       "0.64"
      ]
     },
     "execution_count": 74,
     "metadata": {},
     "output_type": "execute_result"
    }
   ],
   "source": [
    "test_accuracy = accuracy_score(\n",
    "    y_true = y_test,\n",
    "    y_pred = pred_female_test\n",
    ")\n",
    "\n",
    "round(test_accuracy, 2) "
   ]
  },
  {
   "cell_type": "markdown",
   "id": "c74c36fe",
   "metadata": {},
   "source": [
    "#### Conclusion:\n",
    "The model has consistent performance between both train and test set which indicates low variance. However, there is low performance(high bias) which means there are missing important connections between tge features and the target (underfitting)"
   ]
  }
 ],
 "metadata": {
  "kernelspec": {
   "display_name": "Python 3 (ipykernel)",
   "language": "python",
   "name": "python3"
  },
  "language_info": {
   "codemirror_mode": {
    "name": "ipython",
    "version": 3
   },
   "file_extension": ".py",
   "mimetype": "text/x-python",
   "name": "python",
   "nbconvert_exporter": "python",
   "pygments_lexer": "ipython3",
   "version": "3.9.15"
  }
 },
 "nbformat": 4,
 "nbformat_minor": 5
}
